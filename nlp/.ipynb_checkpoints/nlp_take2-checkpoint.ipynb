{
 "cells": [
  {
   "cell_type": "code",
   "execution_count": 1,
   "id": "0d465784",
   "metadata": {},
   "outputs": [],
   "source": [
    "corpus = \"\"\"The Gita posits the existence of an individual self (jivatman)\n",
    "and the higher Godself (Krishna, Atman/Brahman) in every being;[c]\n",
    "the Krishna-Arjuna dialogue has been interpreted as a metaphor for\n",
    "an everlasting dialogue between the two.[d] Numerous classical and modern\n",
    "thinkers have written commentaries on the Gita with differing views on its\n",
    "essence and essentials, including on the relation between the individual self\n",
    "(jivatman) and God (Krishna)[16] or the supreme self (Atman/Brahman).\n",
    "The Gita famously mentions, in chapter XIII verse 24–25, the four ways to see the self,\n",
    "interpreted as four yogas, namely through meditation (raja yoga), insight/intuition (jnana yoga),\n",
    "work/right action (karma yoga) and devotion/love (bhakti yoga), an influential division that was\n",
    "popularized by Swami Vivekananda in the 1890s.[17][18] The setting of the text in a battlefield\n",
    "has been interpreted by several modern Indian writers as an allegory for the struggles and vagaries of human life.\"\"\""
   ]
  },
  {
   "cell_type": "code",
   "execution_count": 8,
   "id": "37095e61",
   "metadata": {},
   "outputs": [],
   "source": [
    "from nltk.stem import PorterStemmer"
   ]
  },
  {
   "cell_type": "code",
   "execution_count": 9,
   "id": "80d5f693",
   "metadata": {},
   "outputs": [],
   "source": [
    "stemmer = PorterStemmer()"
   ]
  },
  {
   "cell_type": "code",
   "execution_count": 10,
   "id": "11ba175d",
   "metadata": {},
   "outputs": [],
   "source": [
    "from nltk.corpus import stopwords"
   ]
  },
  {
   "cell_type": "code",
   "execution_count": 5,
   "id": "ee2b4c98",
   "metadata": {},
   "outputs": [
    {
     "name": "stderr",
     "output_type": "stream",
     "text": [
      "[nltk_data] Downloading package stopwords to\n",
      "[nltk_data]     C:\\Users\\dell\\AppData\\Roaming\\nltk_data...\n",
      "[nltk_data]   Package stopwords is already up-to-date!\n"
     ]
    },
    {
     "data": {
      "text/plain": [
       "True"
      ]
     },
     "execution_count": 5,
     "metadata": {},
     "output_type": "execute_result"
    }
   ],
   "source": [
    "import nltk\n",
    "nltk.download('stopwords')"
   ]
  },
  {
   "cell_type": "code",
   "execution_count": 6,
   "id": "7c597ffa",
   "metadata": {},
   "outputs": [
    {
     "data": {
      "text/plain": [
       "['i',\n",
       " 'me',\n",
       " 'my',\n",
       " 'myself',\n",
       " 'we',\n",
       " 'our',\n",
       " 'ours',\n",
       " 'ourselves',\n",
       " 'you',\n",
       " \"you're\",\n",
       " \"you've\",\n",
       " \"you'll\",\n",
       " \"you'd\",\n",
       " 'your',\n",
       " 'yours',\n",
       " 'yourself',\n",
       " 'yourselves',\n",
       " 'he',\n",
       " 'him',\n",
       " 'his',\n",
       " 'himself',\n",
       " 'she',\n",
       " \"she's\",\n",
       " 'her',\n",
       " 'hers',\n",
       " 'herself',\n",
       " 'it',\n",
       " \"it's\",\n",
       " 'its',\n",
       " 'itself',\n",
       " 'they',\n",
       " 'them',\n",
       " 'their',\n",
       " 'theirs',\n",
       " 'themselves',\n",
       " 'what',\n",
       " 'which',\n",
       " 'who',\n",
       " 'whom',\n",
       " 'this',\n",
       " 'that',\n",
       " \"that'll\",\n",
       " 'these',\n",
       " 'those',\n",
       " 'am',\n",
       " 'is',\n",
       " 'are',\n",
       " 'was',\n",
       " 'were',\n",
       " 'be',\n",
       " 'been',\n",
       " 'being',\n",
       " 'have',\n",
       " 'has',\n",
       " 'had',\n",
       " 'having',\n",
       " 'do',\n",
       " 'does',\n",
       " 'did',\n",
       " 'doing',\n",
       " 'a',\n",
       " 'an',\n",
       " 'the',\n",
       " 'and',\n",
       " 'but',\n",
       " 'if',\n",
       " 'or',\n",
       " 'because',\n",
       " 'as',\n",
       " 'until',\n",
       " 'while',\n",
       " 'of',\n",
       " 'at',\n",
       " 'by',\n",
       " 'for',\n",
       " 'with',\n",
       " 'about',\n",
       " 'against',\n",
       " 'between',\n",
       " 'into',\n",
       " 'through',\n",
       " 'during',\n",
       " 'before',\n",
       " 'after',\n",
       " 'above',\n",
       " 'below',\n",
       " 'to',\n",
       " 'from',\n",
       " 'up',\n",
       " 'down',\n",
       " 'in',\n",
       " 'out',\n",
       " 'on',\n",
       " 'off',\n",
       " 'over',\n",
       " 'under',\n",
       " 'again',\n",
       " 'further',\n",
       " 'then',\n",
       " 'once',\n",
       " 'here',\n",
       " 'there',\n",
       " 'when',\n",
       " 'where',\n",
       " 'why',\n",
       " 'how',\n",
       " 'all',\n",
       " 'any',\n",
       " 'both',\n",
       " 'each',\n",
       " 'few',\n",
       " 'more',\n",
       " 'most',\n",
       " 'other',\n",
       " 'some',\n",
       " 'such',\n",
       " 'no',\n",
       " 'nor',\n",
       " 'not',\n",
       " 'only',\n",
       " 'own',\n",
       " 'same',\n",
       " 'so',\n",
       " 'than',\n",
       " 'too',\n",
       " 'very',\n",
       " 's',\n",
       " 't',\n",
       " 'can',\n",
       " 'will',\n",
       " 'just',\n",
       " 'don',\n",
       " \"don't\",\n",
       " 'should',\n",
       " \"should've\",\n",
       " 'now',\n",
       " 'd',\n",
       " 'll',\n",
       " 'm',\n",
       " 'o',\n",
       " 're',\n",
       " 've',\n",
       " 'y',\n",
       " 'ain',\n",
       " 'aren',\n",
       " \"aren't\",\n",
       " 'couldn',\n",
       " \"couldn't\",\n",
       " 'didn',\n",
       " \"didn't\",\n",
       " 'doesn',\n",
       " \"doesn't\",\n",
       " 'hadn',\n",
       " \"hadn't\",\n",
       " 'hasn',\n",
       " \"hasn't\",\n",
       " 'haven',\n",
       " \"haven't\",\n",
       " 'isn',\n",
       " \"isn't\",\n",
       " 'ma',\n",
       " 'mightn',\n",
       " \"mightn't\",\n",
       " 'mustn',\n",
       " \"mustn't\",\n",
       " 'needn',\n",
       " \"needn't\",\n",
       " 'shan',\n",
       " \"shan't\",\n",
       " 'shouldn',\n",
       " \"shouldn't\",\n",
       " 'wasn',\n",
       " \"wasn't\",\n",
       " 'weren',\n",
       " \"weren't\",\n",
       " 'won',\n",
       " \"won't\",\n",
       " 'wouldn',\n",
       " \"wouldn't\"]"
      ]
     },
     "execution_count": 6,
     "metadata": {},
     "output_type": "execute_result"
    }
   ],
   "source": [
    "stopwords.words('english')"
   ]
  },
  {
   "cell_type": "code",
   "execution_count": null,
   "id": "c3f20ae2",
   "metadata": {},
   "outputs": [],
   "source": []
  },
  {
   "cell_type": "code",
   "execution_count": 33,
   "id": "e665b6f6",
   "metadata": {},
   "outputs": [],
   "source": [
    "## sentence tokenization :\n",
    "sentences = nltk.sent_tokenize(corpus)"
   ]
  },
  {
   "cell_type": "code",
   "execution_count": 13,
   "id": "fb1b7c6f",
   "metadata": {},
   "outputs": [],
   "source": [
    "## Apply stopwords & filter and then stemming -> porterStemmer\n",
    "for i in range(len(sentences)):\n",
    "    words = nltk.word_tokenize(sentences[i])\n",
    "    words = [stemmer.stem(word) for word in words if word not in set(stopwords.words('english'))]\n",
    "    sentences[i] = ' '.join(words)"
   ]
  },
  {
   "cell_type": "code",
   "execution_count": 14,
   "id": "d3a7bca8",
   "metadata": {},
   "outputs": [
    {
     "data": {
      "text/plain": [
       "['the gita posit exist individu self ( jivatman ) higher godself ( krishna , atman/brahman ) everi ; [ c ] krishna-arjuna dialogu interpret metaphor everlast dialogu two .',\n",
       " '[ ] numer classic modern thinker written commentari gita differ view essenc essenti , includ relat individu self ( jivatman ) god ( krishna ) [ 16 ] suprem self ( atman/brahman ) .',\n",
       " 'the gita famous mention , chapter xiii vers 24–25 , four way see self , interpret four yoga , name medit ( raja yoga ) , insight/intuit ( jnana yoga ) , work/right action ( karma yoga ) devotion/lov ( bhakti yoga ) , influenti divis popular swami vivekananda 1890 .',\n",
       " '[ 17 ] [ 18 ] the set text battlefield interpret sever modern indian writer allegori struggl vagari human life .']"
      ]
     },
     "execution_count": 14,
     "metadata": {},
     "output_type": "execute_result"
    }
   ],
   "source": [
    "sentences"
   ]
  },
  {
   "cell_type": "code",
   "execution_count": null,
   "id": "400f32f6",
   "metadata": {},
   "outputs": [],
   "source": []
  },
  {
   "cell_type": "code",
   "execution_count": null,
   "id": "1d0a4367",
   "metadata": {},
   "outputs": [],
   "source": []
  },
  {
   "cell_type": "code",
   "execution_count": 16,
   "id": "714204fb",
   "metadata": {},
   "outputs": [],
   "source": [
    "## Snowball stemming :\n",
    "from nltk.stem import SnowballStemmer\n",
    "snowballstemmer = SnowballStemmer('english')"
   ]
  },
  {
   "cell_type": "code",
   "execution_count": 20,
   "id": "7e1d354e",
   "metadata": {},
   "outputs": [],
   "source": [
    "for i in range(len(sentences)):\n",
    "    words = nltk.word_tokenize(sentences[i])\n",
    "    words = [snowballstemmer.stem(word) for word in words if word not in set(stopwords.words('english'))]\n",
    "    sentences[i] = ' '.join(words)"
   ]
  },
  {
   "cell_type": "code",
   "execution_count": 21,
   "id": "25866442",
   "metadata": {},
   "outputs": [
    {
     "data": {
      "text/plain": [
       "['the gita posit exist individu self ( jivatman ) higher godself ( krishna , atman/brahman ) everi ; [ c ] krishna-arjuna dialogu interpret metaphor everlast dialogu two .',\n",
       " '[ ] numer classic modern thinker written commentari gita differ view essenc essenti , includ relat individu self ( jivatman ) god ( krishna ) [ 16 ] suprem self ( atman/brahman ) .',\n",
       " 'the gita famous mention , chapter xiii vers 24–25 , four way see self , interpret four yoga , name medit ( raja yoga ) , insight/intuit ( jnana yoga ) , work/right action ( karma yoga ) devotion/lov ( bhakti yoga ) , influenti divis popular swami vivekananda 1890s .',\n",
       " '[ 17 ] [ 18 ] the set text battlefield interpret sever modern indian writer allegori struggl vagari human life .']"
      ]
     },
     "execution_count": 21,
     "metadata": {},
     "output_type": "execute_result"
    }
   ],
   "source": [
    "sentences"
   ]
  },
  {
   "cell_type": "code",
   "execution_count": null,
   "id": "45452e51",
   "metadata": {},
   "outputs": [],
   "source": []
  },
  {
   "cell_type": "code",
   "execution_count": 22,
   "id": "b97df19e",
   "metadata": {},
   "outputs": [],
   "source": [
    "## using lemmatization\n",
    "from nltk.stem import WordNetLemmatizer\n",
    "lemmatizer = WordNetLemmatizer()"
   ]
  },
  {
   "cell_type": "code",
   "execution_count": 34,
   "id": "dea1b795",
   "metadata": {},
   "outputs": [],
   "source": [
    "for i in range(len(sentences)):\n",
    "    words = nltk.word_tokenize(sentences[i])\n",
    "    words = [lemmatizer.lemmatize(word.lower(), pos='v') for word in words if word not in set(stopwords.words('english'))]\n",
    "    sentences[i] = ' '.join(words)"
   ]
  },
  {
   "cell_type": "code",
   "execution_count": 35,
   "id": "a2ae90b7",
   "metadata": {},
   "outputs": [
    {
     "data": {
      "text/plain": [
       "['the gita posit existence individual self ( jivatman ) higher godself ( krishna , atman/brahman ) every ; [ c ] krishna-arjuna dialogue interpret metaphor everlasting dialogue two .',\n",
       " '[ ] numerous classical modern thinkers write commentaries gita differ view essence essentials , include relation individual self ( jivatman ) god ( krishna ) [ 16 ] supreme self ( atman/brahman ) .',\n",
       " 'the gita famously mention , chapter xiii verse 24–25 , four ways see self , interpret four yogas , namely meditation ( raja yoga ) , insight/intuition ( jnana yoga ) , work/right action ( karma yoga ) devotion/love ( bhakti yoga ) , influential division popularize swami vivekananda 1890s .',\n",
       " '[ 17 ] [ 18 ] the set text battlefield interpret several modern indian writers allegory struggle vagaries human life .']"
      ]
     },
     "execution_count": 35,
     "metadata": {},
     "output_type": "execute_result"
    }
   ],
   "source": [
    "sentences"
   ]
  },
  {
   "cell_type": "code",
   "execution_count": null,
   "id": "7abc37ab",
   "metadata": {},
   "outputs": [],
   "source": []
  },
  {
   "cell_type": "code",
   "execution_count": 36,
   "id": "86f00c37",
   "metadata": {},
   "outputs": [],
   "source": [
    "## pos tagging :\n",
    "\n",
    "corpus2 = \"\"\"Data science is an interdisciplinary field[10] focused on extracting knowledge from typically large data sets\n",
    "and applying the knowledge and insights from that data to solve problems in a wide range of application domains.\n",
    "The field encompasses preparing data for analysis, formulating data science problems, analyzing data,\n",
    "developing data-driven solutions, and presenting findings to inform high-level decisions in a broad range of application domains.\n",
    "As such, it incorporates skills from computer science, statistics, information science, mathematics, data visualization,\n",
    "information visualization, data sonification, data integration, graphic design, complex systems, communication and business.\n",
    "[11][12] Statistician Nathan Yau, drawing on Ben Fry, also links data science to human–computer interaction: \n",
    "users should be able to intuitively control and explore data.[13][14] In 2015, the American Statistical Association\n",
    "identified database management, statistics and machine learning,\n",
    "and distributed and parallel systems as the three emerging foundational professional communities.[15]\"\"\""
   ]
  },
  {
   "cell_type": "code",
   "execution_count": 38,
   "id": "feae1bda",
   "metadata": {},
   "outputs": [],
   "source": [
    "import nltk\n",
    "sentence_2 = nltk.sent_tokenize(corpus2)"
   ]
  },
  {
   "cell_type": "code",
   "execution_count": 39,
   "id": "a6ac2136",
   "metadata": {},
   "outputs": [
    {
     "data": {
      "text/plain": [
       "['Data science is an interdisciplinary field[10] focused on extracting knowledge from typically large data sets\\nand applying the knowledge and insights from that data to solve problems in a wide range of application domains.',\n",
       " 'The field encompasses preparing data for analysis, formulating data science problems, analyzing data,\\ndeveloping data-driven solutions, and presenting findings to inform high-level decisions in a broad range of application domains.',\n",
       " 'As such, it incorporates skills from computer science, statistics, information science, mathematics, data visualization,\\ninformation visualization, data sonification, data integration, graphic design, complex systems, communication and business.',\n",
       " '[11][12] Statistician Nathan Yau, drawing on Ben Fry, also links data science to human–computer interaction: \\nusers should be able to intuitively control and explore data.',\n",
       " '[13][14] In 2015, the American Statistical Association\\nidentified database management, statistics and machine learning,\\nand distributed and parallel systems as the three emerging foundational professional communities.',\n",
       " '[15]']"
      ]
     },
     "execution_count": 39,
     "metadata": {},
     "output_type": "execute_result"
    }
   ],
   "source": [
    "sentence_2"
   ]
  },
  {
   "cell_type": "code",
   "execution_count": 40,
   "id": "186541c1",
   "metadata": {},
   "outputs": [],
   "source": [
    "from nltk.corpus import stopwords"
   ]
  },
  {
   "cell_type": "code",
   "execution_count": 43,
   "id": "640ed4aa",
   "metadata": {},
   "outputs": [
    {
     "name": "stderr",
     "output_type": "stream",
     "text": [
      "[nltk_data] Downloading package averaged_perceptron_tagger to\n",
      "[nltk_data]     C:\\Users\\dell\\AppData\\Roaming\\nltk_data...\n",
      "[nltk_data]   Unzipping taggers\\averaged_perceptron_tagger.zip.\n"
     ]
    },
    {
     "data": {
      "text/plain": [
       "True"
      ]
     },
     "execution_count": 43,
     "metadata": {},
     "output_type": "execute_result"
    }
   ],
   "source": [
    "nltk.download('averaged_perceptron_tagger')"
   ]
  },
  {
   "cell_type": "code",
   "execution_count": 44,
   "id": "86f0dc9c",
   "metadata": {},
   "outputs": [
    {
     "name": "stdout",
     "output_type": "stream",
     "text": [
      "[('Data', 'NNP'), ('science', 'NN'), ('interdisciplinary', 'JJ'), ('field', 'NN'), ('[', 'VBD'), ('10', 'CD'), (']', 'NNS'), ('focused', 'VBD'), ('extracting', 'VBG'), ('knowledge', 'NN'), ('typically', 'RB'), ('large', 'JJ'), ('data', 'NNS'), ('sets', 'NNS'), ('applying', 'VBG'), ('knowledge', 'NN'), ('insights', 'NNS'), ('data', 'NNS'), ('solve', 'VBP'), ('problems', 'NNS'), ('wide', 'JJ'), ('range', 'NN'), ('application', 'NN'), ('domains', 'NNS'), ('.', '.')]\n",
      "[('The', 'DT'), ('field', 'NN'), ('encompasses', 'VBZ'), ('preparing', 'VBG'), ('data', 'NNS'), ('analysis', 'NN'), (',', ','), ('formulating', 'VBG'), ('data', 'NNS'), ('science', 'NN'), ('problems', 'NNS'), (',', ','), ('analyzing', 'VBG'), ('data', 'NNS'), (',', ','), ('developing', 'VBG'), ('data-driven', 'JJ'), ('solutions', 'NNS'), (',', ','), ('presenting', 'VBG'), ('findings', 'NNS'), ('inform', 'JJ'), ('high-level', 'JJ'), ('decisions', 'NNS'), ('broad', 'JJ'), ('range', 'NN'), ('application', 'NN'), ('domains', 'NNS'), ('.', '.')]\n",
      "[('As', 'IN'), (',', ','), ('incorporates', 'VBZ'), ('skills', 'NNS'), ('computer', 'NN'), ('science', 'NN'), (',', ','), ('statistics', 'NNS'), (',', ','), ('information', 'NN'), ('science', 'NN'), (',', ','), ('mathematics', 'NNS'), (',', ','), ('data', 'NNS'), ('visualization', 'NN'), (',', ','), ('information', 'NN'), ('visualization', 'NN'), (',', ','), ('data', 'NNS'), ('sonification', 'NN'), (',', ','), ('data', 'NNS'), ('integration', 'NN'), (',', ','), ('graphic', 'JJ'), ('design', 'NN'), (',', ','), ('complex', 'JJ'), ('systems', 'NNS'), (',', ','), ('communication', 'NN'), ('business', 'NN'), ('.', '.')]\n",
      "[('[', 'RB'), ('11', 'CD'), (']', 'JJ'), ('[', '$'), ('12', 'CD'), (']', 'NNP'), ('Statistician', 'NNP'), ('Nathan', 'NNP'), ('Yau', 'NNP'), (',', ','), ('drawing', 'VBG'), ('Ben', 'NNP'), ('Fry', 'NNP'), (',', ','), ('also', 'RB'), ('links', 'VBZ'), ('data', 'NNS'), ('science', 'NN'), ('human–computer', 'NN'), ('interaction', 'NN'), (':', ':'), ('users', 'NNS'), ('able', 'JJ'), ('intuitively', 'RB'), ('control', 'VBP'), ('explore', 'RB'), ('data', 'NNS'), ('.', '.')]\n",
      "[('[', 'RB'), ('13', 'CD'), (']', 'JJ'), ('[', '$'), ('14', 'CD'), (']', 'NN'), ('In', 'IN'), ('2015', 'CD'), (',', ','), ('American', 'NNP'), ('Statistical', 'NNP'), ('Association', 'NNP'), ('identified', 'VBD'), ('database', 'NN'), ('management', 'NN'), (',', ','), ('statistics', 'NNS'), ('machine', 'NN'), ('learning', 'NN'), (',', ','), ('distributed', 'VBD'), ('parallel', 'JJ'), ('systems', 'NNS'), ('three', 'CD'), ('emerging', 'VBG'), ('foundational', 'JJ'), ('professional', 'JJ'), ('communities', 'NNS'), ('.', '.')]\n",
      "[('[', 'RB'), ('15', 'CD'), (']', 'NNS')]\n"
     ]
    }
   ],
   "source": [
    "## finding the pos tag for each word:\n",
    "for i in range(len(sentence_2)):\n",
    "    words = nltk.word_tokenize(sentence_2[i])\n",
    "    words = [word for word in words if word not in set(stopwords.words('english'))]\n",
    "    pos_tag = nltk.pos_tag(words)\n",
    "    print(pos_tag)"
   ]
  },
  {
   "cell_type": "code",
   "execution_count": null,
   "id": "e3cca12a",
   "metadata": {},
   "outputs": [],
   "source": []
  },
  {
   "cell_type": "code",
   "execution_count": null,
   "id": "c8b481c4",
   "metadata": {},
   "outputs": [],
   "source": []
  },
  {
   "cell_type": "code",
   "execution_count": 46,
   "id": "a7115183",
   "metadata": {},
   "outputs": [],
   "source": [
    "## NER : named entity recognition\n",
    "sen_3 = \"\"\"India gate is built by xxxxxxxx in 19xx in a budget of 1 milion dollars and mohit is visiting it on this tuesday\"\"\""
   ]
  },
  {
   "cell_type": "code",
   "execution_count": 48,
   "id": "e61b9f33",
   "metadata": {},
   "outputs": [],
   "source": [
    "import nltk\n",
    "words = nltk.word_tokenize(sen_3)"
   ]
  },
  {
   "cell_type": "code",
   "execution_count": 51,
   "id": "f1b1b6b6",
   "metadata": {},
   "outputs": [
    {
     "name": "stdout",
     "output_type": "stream",
     "text": [
      "[('India', 'NNP'), ('gate', 'NN'), ('is', 'VBZ'), ('built', 'VBN'), ('by', 'IN'), ('xxxxxxxx', 'NN'), ('in', 'IN'), ('19xx', 'CD'), ('in', 'IN'), ('a', 'DT'), ('budget', 'NN'), ('of', 'IN'), ('1', 'CD'), ('milion', 'NN'), ('dollars', 'NNS'), ('and', 'CC'), ('mohit', 'NN'), ('is', 'VBZ'), ('visiting', 'VBG'), ('it', 'PRP'), ('on', 'IN'), ('this', 'DT'), ('tuesday', 'NN')]\n"
     ]
    }
   ],
   "source": [
    "pos_tag_ele = nltk.pos_tag(words)\n",
    "print(pos_tag_ele)"
   ]
  },
  {
   "cell_type": "code",
   "execution_count": 55,
   "id": "babe49f1",
   "metadata": {},
   "outputs": [
    {
     "name": "stderr",
     "output_type": "stream",
     "text": [
      "[nltk_data] Downloading package maxent_ne_chunker to\n",
      "[nltk_data]     C:\\Users\\dell\\AppData\\Roaming\\nltk_data...\n",
      "[nltk_data]   Package maxent_ne_chunker is already up-to-date!\n",
      "[nltk_data] Downloading package words to\n",
      "[nltk_data]     C:\\Users\\dell\\AppData\\Roaming\\nltk_data...\n",
      "[nltk_data]   Unzipping corpora\\words.zip.\n"
     ]
    },
    {
     "data": {
      "text/plain": [
       "True"
      ]
     },
     "execution_count": 55,
     "metadata": {},
     "output_type": "execute_result"
    }
   ],
   "source": [
    "import nltk\n",
    "nltk.download('maxent_ne_chunker')\n",
    "nltk.download('words')"
   ]
  },
  {
   "cell_type": "code",
   "execution_count": 59,
   "id": "0df4e049",
   "metadata": {},
   "outputs": [],
   "source": [
    "nltk.ne_chunk(pos_tag_ele).draw()  ## NER"
   ]
  },
  {
   "cell_type": "code",
   "execution_count": null,
   "id": "b688ff4a",
   "metadata": {},
   "outputs": [],
   "source": []
  },
  {
   "cell_type": "code",
   "execution_count": null,
   "id": "b6cb5e11",
   "metadata": {},
   "outputs": [],
   "source": []
  },
  {
   "cell_type": "code",
   "execution_count": null,
   "id": "babf87a5",
   "metadata": {},
   "outputs": [],
   "source": []
  },
  {
   "cell_type": "code",
   "execution_count": null,
   "id": "f356d40c",
   "metadata": {},
   "outputs": [],
   "source": []
  },
  {
   "cell_type": "code",
   "execution_count": null,
   "id": "0d33860d",
   "metadata": {},
   "outputs": [],
   "source": []
  },
  {
   "cell_type": "code",
   "execution_count": null,
   "id": "ffb6d270",
   "metadata": {},
   "outputs": [],
   "source": []
  },
  {
   "cell_type": "code",
   "execution_count": null,
   "id": "26e50abd",
   "metadata": {},
   "outputs": [],
   "source": []
  },
  {
   "cell_type": "code",
   "execution_count": null,
   "id": "e31580df",
   "metadata": {},
   "outputs": [],
   "source": []
  }
 ],
 "metadata": {
  "kernelspec": {
   "display_name": "Python 3 (ipykernel)",
   "language": "python",
   "name": "python3"
  },
  "language_info": {
   "codemirror_mode": {
    "name": "ipython",
    "version": 3
   },
   "file_extension": ".py",
   "mimetype": "text/x-python",
   "name": "python",
   "nbconvert_exporter": "python",
   "pygments_lexer": "ipython3",
   "version": "3.9.18"
  }
 },
 "nbformat": 4,
 "nbformat_minor": 5
}
