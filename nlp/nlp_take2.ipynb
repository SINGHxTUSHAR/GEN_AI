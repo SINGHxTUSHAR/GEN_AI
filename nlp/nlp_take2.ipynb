{
 "cells": [
  {
   "cell_type": "code",
   "execution_count": 1,
   "id": "b324b10c",
   "metadata": {},
   "outputs": [],
   "source": [
    "corpus = \"\"\"The Gita posits the existence of an individual self (jivatman)\n",
    "and the higher Godself (Krishna, Atman/Brahman) in every being;[c]\n",
    "the Krishna-Arjuna dialogue has been interpreted as a metaphor for\n",
    "an everlasting dialogue between the two.[d] Numerous classical and modern\n",
    "thinkers have written commentaries on the Gita with differing views on its\n",
    "essence and essentials, including on the relation between the individual self\n",
    "(jivatman) and God (Krishna)[16] or the supreme self (Atman/Brahman).\n",
    "The Gita famously mentions, in chapter XIII verse 24–25, the four ways to see the self,\n",
    "interpreted as four yogas, namely through meditation (raja yoga), insight/intuition (jnana yoga),\n",
    "work/right action (karma yoga) and devotion/love (bhakti yoga), an influential division that was\n",
    "popularized by Swami Vivekananda in the 1890s.[17][18] The setting of the text in a battlefield\n",
    "has been interpreted by several modern Indian writers as an allegory for the struggles and vagaries of human life.\"\"\""
   ]
  },
  {
   "cell_type": "code",
   "execution_count": 8,
   "id": "cd2f5820",
   "metadata": {},
   "outputs": [],
   "source": [
    "from nltk.stem import PorterStemmer"
   ]
  },
  {
   "cell_type": "code",
   "execution_count": 9,
   "id": "8d85d347",
   "metadata": {},
   "outputs": [],
   "source": [
    "stemmer = PorterStemmer()"
   ]
  },
  {
   "cell_type": "code",
   "execution_count": 10,
   "id": "eb335ac7",
   "metadata": {},
   "outputs": [],
   "source": [
    "from nltk.corpus import stopwords"
   ]
  },
  {
   "cell_type": "code",
   "execution_count": 5,
   "id": "fdd4dfa4",
   "metadata": {},
   "outputs": [
    {
     "name": "stderr",
     "output_type": "stream",
     "text": [
      "[nltk_data] Downloading package stopwords to\n",
      "[nltk_data]     C:\\Users\\dell\\AppData\\Roaming\\nltk_data...\n",
      "[nltk_data]   Package stopwords is already up-to-date!\n"
     ]
    },
    {
     "data": {
      "text/plain": [
       "True"
      ]
     },
     "execution_count": 5,
     "metadata": {},
     "output_type": "execute_result"
    }
   ],
   "source": [
    "import nltk\n",
    "nltk.download('stopwords')"
   ]
  },
  {
   "cell_type": "code",
   "execution_count": 6,
   "id": "549fca5a",
   "metadata": {},
   "outputs": [
    {
     "data": {
      "text/plain": [
       "['i',\n",
       " 'me',\n",
       " 'my',\n",
       " 'myself',\n",
       " 'we',\n",
       " 'our',\n",
       " 'ours',\n",
       " 'ourselves',\n",
       " 'you',\n",
       " \"you're\",\n",
       " \"you've\",\n",
       " \"you'll\",\n",
       " \"you'd\",\n",
       " 'your',\n",
       " 'yours',\n",
       " 'yourself',\n",
       " 'yourselves',\n",
       " 'he',\n",
       " 'him',\n",
       " 'his',\n",
       " 'himself',\n",
       " 'she',\n",
       " \"she's\",\n",
       " 'her',\n",
       " 'hers',\n",
       " 'herself',\n",
       " 'it',\n",
       " \"it's\",\n",
       " 'its',\n",
       " 'itself',\n",
       " 'they',\n",
       " 'them',\n",
       " 'their',\n",
       " 'theirs',\n",
       " 'themselves',\n",
       " 'what',\n",
       " 'which',\n",
       " 'who',\n",
       " 'whom',\n",
       " 'this',\n",
       " 'that',\n",
       " \"that'll\",\n",
       " 'these',\n",
       " 'those',\n",
       " 'am',\n",
       " 'is',\n",
       " 'are',\n",
       " 'was',\n",
       " 'were',\n",
       " 'be',\n",
       " 'been',\n",
       " 'being',\n",
       " 'have',\n",
       " 'has',\n",
       " 'had',\n",
       " 'having',\n",
       " 'do',\n",
       " 'does',\n",
       " 'did',\n",
       " 'doing',\n",
       " 'a',\n",
       " 'an',\n",
       " 'the',\n",
       " 'and',\n",
       " 'but',\n",
       " 'if',\n",
       " 'or',\n",
       " 'because',\n",
       " 'as',\n",
       " 'until',\n",
       " 'while',\n",
       " 'of',\n",
       " 'at',\n",
       " 'by',\n",
       " 'for',\n",
       " 'with',\n",
       " 'about',\n",
       " 'against',\n",
       " 'between',\n",
       " 'into',\n",
       " 'through',\n",
       " 'during',\n",
       " 'before',\n",
       " 'after',\n",
       " 'above',\n",
       " 'below',\n",
       " 'to',\n",
       " 'from',\n",
       " 'up',\n",
       " 'down',\n",
       " 'in',\n",
       " 'out',\n",
       " 'on',\n",
       " 'off',\n",
       " 'over',\n",
       " 'under',\n",
       " 'again',\n",
       " 'further',\n",
       " 'then',\n",
       " 'once',\n",
       " 'here',\n",
       " 'there',\n",
       " 'when',\n",
       " 'where',\n",
       " 'why',\n",
       " 'how',\n",
       " 'all',\n",
       " 'any',\n",
       " 'both',\n",
       " 'each',\n",
       " 'few',\n",
       " 'more',\n",
       " 'most',\n",
       " 'other',\n",
       " 'some',\n",
       " 'such',\n",
       " 'no',\n",
       " 'nor',\n",
       " 'not',\n",
       " 'only',\n",
       " 'own',\n",
       " 'same',\n",
       " 'so',\n",
       " 'than',\n",
       " 'too',\n",
       " 'very',\n",
       " 's',\n",
       " 't',\n",
       " 'can',\n",
       " 'will',\n",
       " 'just',\n",
       " 'don',\n",
       " \"don't\",\n",
       " 'should',\n",
       " \"should've\",\n",
       " 'now',\n",
       " 'd',\n",
       " 'll',\n",
       " 'm',\n",
       " 'o',\n",
       " 're',\n",
       " 've',\n",
       " 'y',\n",
       " 'ain',\n",
       " 'aren',\n",
       " \"aren't\",\n",
       " 'couldn',\n",
       " \"couldn't\",\n",
       " 'didn',\n",
       " \"didn't\",\n",
       " 'doesn',\n",
       " \"doesn't\",\n",
       " 'hadn',\n",
       " \"hadn't\",\n",
       " 'hasn',\n",
       " \"hasn't\",\n",
       " 'haven',\n",
       " \"haven't\",\n",
       " 'isn',\n",
       " \"isn't\",\n",
       " 'ma',\n",
       " 'mightn',\n",
       " \"mightn't\",\n",
       " 'mustn',\n",
       " \"mustn't\",\n",
       " 'needn',\n",
       " \"needn't\",\n",
       " 'shan',\n",
       " \"shan't\",\n",
       " 'shouldn',\n",
       " \"shouldn't\",\n",
       " 'wasn',\n",
       " \"wasn't\",\n",
       " 'weren',\n",
       " \"weren't\",\n",
       " 'won',\n",
       " \"won't\",\n",
       " 'wouldn',\n",
       " \"wouldn't\"]"
      ]
     },
     "execution_count": 6,
     "metadata": {},
     "output_type": "execute_result"
    }
   ],
   "source": [
    "stopwords.words('english')"
   ]
  },
  {
   "cell_type": "code",
   "execution_count": null,
   "id": "e16ef078",
   "metadata": {},
   "outputs": [],
   "source": []
  },
  {
   "cell_type": "code",
   "execution_count": 33,
   "id": "2c645639",
   "metadata": {},
   "outputs": [],
   "source": [
    "## sentence tokenization :\n",
    "sentences = nltk.sent_tokenize(corpus)"
   ]
  },
  {
   "cell_type": "code",
   "execution_count": 13,
   "id": "42f3e5ef",
   "metadata": {},
   "outputs": [],
   "source": [
    "## Apply stopwords & filter and then stemming -> porterStemmer\n",
    "for i in range(len(sentences)):\n",
    "    words = nltk.word_tokenize(sentences[i])\n",
    "    words = [stemmer.stem(word) for word in words if word not in set(stopwords.words('english'))]\n",
    "    sentences[i] = ' '.join(words)"
   ]
  },
  {
   "cell_type": "code",
   "execution_count": 14,
   "id": "134e13b4",
   "metadata": {},
   "outputs": [
    {
     "data": {
      "text/plain": [
       "['the gita posit exist individu self ( jivatman ) higher godself ( krishna , atman/brahman ) everi ; [ c ] krishna-arjuna dialogu interpret metaphor everlast dialogu two .',\n",
       " '[ ] numer classic modern thinker written commentari gita differ view essenc essenti , includ relat individu self ( jivatman ) god ( krishna ) [ 16 ] suprem self ( atman/brahman ) .',\n",
       " 'the gita famous mention , chapter xiii vers 24–25 , four way see self , interpret four yoga , name medit ( raja yoga ) , insight/intuit ( jnana yoga ) , work/right action ( karma yoga ) devotion/lov ( bhakti yoga ) , influenti divis popular swami vivekananda 1890 .',\n",
       " '[ 17 ] [ 18 ] the set text battlefield interpret sever modern indian writer allegori struggl vagari human life .']"
      ]
     },
     "execution_count": 14,
     "metadata": {},
     "output_type": "execute_result"
    }
   ],
   "source": [
    "sentences"
   ]
  },
  {
   "cell_type": "code",
   "execution_count": null,
   "id": "bd7eb30c",
   "metadata": {},
   "outputs": [],
   "source": []
  },
  {
   "cell_type": "code",
   "execution_count": null,
   "id": "4dec7992",
   "metadata": {},
   "outputs": [],
   "source": []
  },
  {
   "cell_type": "code",
   "execution_count": 16,
   "id": "7636f565",
   "metadata": {},
   "outputs": [],
   "source": [
    "## Snowball stemming :\n",
    "from nltk.stem import SnowballStemmer\n",
    "snowballstemmer = SnowballStemmer('english')"
   ]
  },
  {
   "cell_type": "code",
   "execution_count": 20,
   "id": "e4a1a587",
   "metadata": {},
   "outputs": [],
   "source": [
    "for i in range(len(sentences)):\n",
    "    words = nltk.word_tokenize(sentences[i])\n",
    "    words = [snowballstemmer.stem(word) for word in words if word not in set(stopwords.words('english'))]\n",
    "    sentences[i] = ' '.join(words)"
   ]
  },
  {
   "cell_type": "code",
   "execution_count": 21,
   "id": "a0cac0e0",
   "metadata": {},
   "outputs": [
    {
     "data": {
      "text/plain": [
       "['the gita posit exist individu self ( jivatman ) higher godself ( krishna , atman/brahman ) everi ; [ c ] krishna-arjuna dialogu interpret metaphor everlast dialogu two .',\n",
       " '[ ] numer classic modern thinker written commentari gita differ view essenc essenti , includ relat individu self ( jivatman ) god ( krishna ) [ 16 ] suprem self ( atman/brahman ) .',\n",
       " 'the gita famous mention , chapter xiii vers 24–25 , four way see self , interpret four yoga , name medit ( raja yoga ) , insight/intuit ( jnana yoga ) , work/right action ( karma yoga ) devotion/lov ( bhakti yoga ) , influenti divis popular swami vivekananda 1890s .',\n",
       " '[ 17 ] [ 18 ] the set text battlefield interpret sever modern indian writer allegori struggl vagari human life .']"
      ]
     },
     "execution_count": 21,
     "metadata": {},
     "output_type": "execute_result"
    }
   ],
   "source": [
    "sentences"
   ]
  },
  {
   "cell_type": "code",
   "execution_count": null,
   "id": "16257c5a",
   "metadata": {},
   "outputs": [],
   "source": []
  },
  {
   "cell_type": "code",
   "execution_count": 22,
   "id": "c4e85dca",
   "metadata": {},
   "outputs": [],
   "source": [
    "## using lemmatization\n",
    "from nltk.stem import WordNetLemmatizer\n",
    "lemmatizer = WordNetLemmatizer()"
   ]
  },
  {
   "cell_type": "code",
   "execution_count": 34,
   "id": "08c9ba13",
   "metadata": {},
   "outputs": [],
   "source": [
    "for i in range(len(sentences)):\n",
    "    words = nltk.word_tokenize(sentences[i])\n",
    "    words = [lemmatizer.lemmatize(word.lower(), pos='v') for word in words if word not in set(stopwords.words('english'))]\n",
    "    sentences[i] = ' '.join(words)"
   ]
  },
  {
   "cell_type": "code",
   "execution_count": 35,
   "id": "3adef2bd",
   "metadata": {},
   "outputs": [
    {
     "data": {
      "text/plain": [
       "['the gita posit existence individual self ( jivatman ) higher godself ( krishna , atman/brahman ) every ; [ c ] krishna-arjuna dialogue interpret metaphor everlasting dialogue two .',\n",
       " '[ ] numerous classical modern thinkers write commentaries gita differ view essence essentials , include relation individual self ( jivatman ) god ( krishna ) [ 16 ] supreme self ( atman/brahman ) .',\n",
       " 'the gita famously mention , chapter xiii verse 24–25 , four ways see self , interpret four yogas , namely meditation ( raja yoga ) , insight/intuition ( jnana yoga ) , work/right action ( karma yoga ) devotion/love ( bhakti yoga ) , influential division popularize swami vivekananda 1890s .',\n",
       " '[ 17 ] [ 18 ] the set text battlefield interpret several modern indian writers allegory struggle vagaries human life .']"
      ]
     },
     "execution_count": 35,
     "metadata": {},
     "output_type": "execute_result"
    }
   ],
   "source": [
    "sentences"
   ]
  },
  {
   "cell_type": "code",
   "execution_count": null,
   "id": "33dee6a2",
   "metadata": {},
   "outputs": [],
   "source": []
  }
 ],
 "metadata": {
  "kernelspec": {
   "display_name": "Python 3 (ipykernel)",
   "language": "python",
   "name": "python3"
  },
  "language_info": {
   "codemirror_mode": {
    "name": "ipython",
    "version": 3
   },
   "file_extension": ".py",
   "mimetype": "text/x-python",
   "name": "python",
   "nbconvert_exporter": "python",
   "pygments_lexer": "ipython3",
   "version": "3.9.18"
  }
 },
 "nbformat": 4,
 "nbformat_minor": 5
}
