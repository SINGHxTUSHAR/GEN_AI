{
 "cells": [
  {
   "cell_type": "code",
   "execution_count": 1,
   "id": "b456ec2b",
   "metadata": {},
   "outputs": [
    {
     "name": "stdout",
     "output_type": "stream",
     "text": [
      "Requirement already satisfied: nltk in c:\\users\\dell\\anaconda3\\lib\\site-packages (3.8.1)\n",
      "Requirement already satisfied: click in c:\\users\\dell\\anaconda3\\lib\\site-packages (from nltk) (8.1.7)\n",
      "Requirement already satisfied: joblib in c:\\users\\dell\\anaconda3\\lib\\site-packages (from nltk) (1.2.0)\n",
      "Requirement already satisfied: regex>=2021.8.3 in c:\\users\\dell\\anaconda3\\lib\\site-packages (from nltk) (2023.10.3)\n",
      "Requirement already satisfied: tqdm in c:\\users\\dell\\anaconda3\\lib\\site-packages (from nltk) (4.65.0)\n",
      "Requirement already satisfied: colorama in c:\\users\\dell\\anaconda3\\lib\\site-packages (from click->nltk) (0.4.6)\n"
     ]
    }
   ],
   "source": [
    "# !pip install nltk"
   ]
  },
  {
   "cell_type": "code",
   "execution_count": 11,
   "id": "7577f794",
   "metadata": {},
   "outputs": [],
   "source": [
    "corpus = \"\"\"Hello, my name is TUSHAR SINGH and i am learning NLP from scratch.\n",
    "            This is the file in which we are learning Tokenization in detail.\n",
    "            Welcome everyone.\n",
    "\"\"\""
   ]
  },
  {
   "cell_type": "code",
   "execution_count": 12,
   "id": "870d4681",
   "metadata": {},
   "outputs": [
    {
     "name": "stdout",
     "output_type": "stream",
     "text": [
      "Hello, my name is TUSHAR SINGH and i am learning NLP from scratch.\n",
      "            This is the file in which we are learning Tokenization in detail.\n",
      "            Welcome everyone.\n",
      "\n"
     ]
    }
   ],
   "source": [
    "print(corpus)"
   ]
  },
  {
   "cell_type": "code",
   "execution_count": 13,
   "id": "9f958c07",
   "metadata": {},
   "outputs": [],
   "source": [
    "## sentance tokenization\n",
    "from nltk.tokenize import sent_tokenize"
   ]
  },
  {
   "cell_type": "code",
   "execution_count": 14,
   "id": "b53599c0",
   "metadata": {},
   "outputs": [],
   "source": [
    "document = sent_tokenize(corpus)"
   ]
  },
  {
   "cell_type": "code",
   "execution_count": 15,
   "id": "0fa1a7a2",
   "metadata": {},
   "outputs": [
    {
     "name": "stdout",
     "output_type": "stream",
     "text": [
      "['Hello, my name is TUSHAR SINGH and i am learning NLP from scratch.', 'This is the file in which we are learning Tokenization in detail.', 'Welcome everyone.']\n"
     ]
    }
   ],
   "source": [
    "print(document)"
   ]
  },
  {
   "cell_type": "code",
   "execution_count": 16,
   "id": "df201842",
   "metadata": {},
   "outputs": [
    {
     "name": "stdout",
     "output_type": "stream",
     "text": [
      "Hello, my name is TUSHAR SINGH and i am learning NLP from scratch.\n",
      "This is the file in which we are learning Tokenization in detail.\n",
      "Welcome everyone.\n"
     ]
    }
   ],
   "source": [
    "for sentence in document:\n",
    "    print(sentence)"
   ]
  },
  {
   "cell_type": "code",
   "execution_count": 17,
   "id": "182951f1",
   "metadata": {},
   "outputs": [],
   "source": [
    "## word tokenization\n",
    "from nltk.tokenize import word_tokenize"
   ]
  },
  {
   "cell_type": "code",
   "execution_count": 18,
   "id": "6ba916b4",
   "metadata": {},
   "outputs": [],
   "source": [
    "word_data = word_tokenize(corpus)"
   ]
  },
  {
   "cell_type": "code",
   "execution_count": 19,
   "id": "6dc20c6e",
   "metadata": {},
   "outputs": [
    {
     "name": "stdout",
     "output_type": "stream",
     "text": [
      "['Hello', ',', 'my', 'name', 'is', 'TUSHAR', 'SINGH', 'and', 'i', 'am', 'learning', 'NLP', 'from', 'scratch', '.', 'This', 'is', 'the', 'file', 'in', 'which', 'we', 'are', 'learning', 'Tokenization', 'in', 'detail', '.', 'Welcome', 'everyone', '.']\n"
     ]
    }
   ],
   "source": [
    "print(word_data)"
   ]
  },
  {
   "cell_type": "code",
   "execution_count": null,
   "id": "d60bb26b",
   "metadata": {},
   "outputs": [],
   "source": []
  },
  {
   "cell_type": "code",
   "execution_count": null,
   "id": "371c54e1",
   "metadata": {},
   "outputs": [],
   "source": []
  },
  {
   "cell_type": "code",
   "execution_count": 24,
   "id": "9cbae6f4",
   "metadata": {},
   "outputs": [],
   "source": [
    "## Stemming : converting a word to it's base(without meaning)\n",
    "words = ['going', 'go', 'gone', 'eat', 'ate', 'eating']"
   ]
  },
  {
   "cell_type": "code",
   "execution_count": 25,
   "id": "fec9bafe",
   "metadata": {},
   "outputs": [],
   "source": [
    "## PorterStemmer\n",
    "from nltk.stem import PorterStemmer\n",
    "stemming = PorterStemmer()"
   ]
  },
  {
   "cell_type": "code",
   "execution_count": 26,
   "id": "85572049",
   "metadata": {},
   "outputs": [
    {
     "name": "stdout",
     "output_type": "stream",
     "text": [
      "stemming of the going is --> go\n",
      "stemming of the go is --> go\n",
      "stemming of the gone is --> gone\n",
      "stemming of the eat is --> eat\n",
      "stemming of the ate is --> ate\n",
      "stemming of the eating is --> eat\n"
     ]
    }
   ],
   "source": [
    "for ele in words:\n",
    "    print(f\"stemming of the {ele} is --> {stemming.stem(ele)}\")"
   ]
  },
  {
   "cell_type": "code",
   "execution_count": null,
   "id": "53097304",
   "metadata": {},
   "outputs": [],
   "source": []
  },
  {
   "cell_type": "code",
   "execution_count": 30,
   "id": "f9c83b6d",
   "metadata": {},
   "outputs": [],
   "source": [
    "## RegexStemmer\n",
    "from nltk.stem import RegexpStemmer\n",
    "regex_stemming = RegexpStemmer('ing$|s$|e$|able$', min=4)"
   ]
  },
  {
   "cell_type": "code",
   "execution_count": 31,
   "id": "8e5c854c",
   "metadata": {},
   "outputs": [
    {
     "data": {
      "text/plain": [
       "'eat'"
      ]
     },
     "execution_count": 31,
     "metadata": {},
     "output_type": "execute_result"
    }
   ],
   "source": [
    "regex_stemming.stem('eating')"
   ]
  },
  {
   "cell_type": "code",
   "execution_count": null,
   "id": "ae35341a",
   "metadata": {},
   "outputs": [],
   "source": []
  },
  {
   "cell_type": "code",
   "execution_count": 33,
   "id": "4af44170",
   "metadata": {},
   "outputs": [],
   "source": [
    "## SnowBall Stemmer : better than porterStemmer\n",
    "from nltk.stem import SnowballStemmer\n",
    "snowballstemmer = SnowballStemmer('english')"
   ]
  },
  {
   "cell_type": "code",
   "execution_count": 34,
   "id": "e2e5d667",
   "metadata": {},
   "outputs": [
    {
     "name": "stdout",
     "output_type": "stream",
     "text": [
      "stemming of going is ---> go\n",
      "stemming of go is ---> go\n",
      "stemming of gone is ---> gone\n",
      "stemming of eat is ---> eat\n",
      "stemming of ate is ---> ate\n",
      "stemming of eating is ---> eat\n"
     ]
    }
   ],
   "source": [
    "for word in words:\n",
    "    print(f\"stemming of {word} is ---> {snowballstemmer.stem(word)}\")"
   ]
  },
  {
   "cell_type": "code",
   "execution_count": 38,
   "id": "dcbf25fd",
   "metadata": {},
   "outputs": [
    {
     "name": "stdout",
     "output_type": "stream",
     "text": [
      "porterStemmer : fairly ---> fairli\n",
      "SnowballStemmer : fairly ---> fair\n"
     ]
    }
   ],
   "source": [
    "## difference between the porterStemmer & SnowballStemmer\n",
    "word = 'fairly'\n",
    "print(f\"porterStemmer : {word} ---> {stemming.stem(word)}\")\n",
    "print(f\"SnowballStemmer : {word} ---> {snowballstemmer.stem(word)}\")"
   ]
  },
  {
   "cell_type": "code",
   "execution_count": null,
   "id": "1e504b06",
   "metadata": {},
   "outputs": [],
   "source": []
  },
  {
   "cell_type": "code",
   "execution_count": 28,
   "id": "e619f780",
   "metadata": {},
   "outputs": [
    {
     "data": {
      "text/plain": [
       "'congratul'"
      ]
     },
     "execution_count": 28,
     "metadata": {},
     "output_type": "execute_result"
    }
   ],
   "source": [
    "## Disadvantage of stemming : the base word doesn't necessarly have a meaning\n",
    "stemming.stem('congratulation')"
   ]
  },
  {
   "cell_type": "code",
   "execution_count": 45,
   "id": "9089917a",
   "metadata": {
    "scrolled": true
   },
   "outputs": [
    {
     "name": "stderr",
     "output_type": "stream",
     "text": [
      "[nltk_data] Downloading package wordnet to\n",
      "[nltk_data]     C:\\Users\\dell\\AppData\\Roaming\\nltk_data...\n"
     ]
    },
    {
     "data": {
      "text/plain": [
       "True"
      ]
     },
     "execution_count": 45,
     "metadata": {},
     "output_type": "execute_result"
    }
   ],
   "source": [
    "import nltk\n",
    "nltk.download('wordnet')"
   ]
  },
  {
   "cell_type": "code",
   "execution_count": 46,
   "id": "dc328155",
   "metadata": {},
   "outputs": [],
   "source": [
    "## lemmatization : convert the word to its 'root'\n",
    "from nltk.stem import WordNetLemmatizer\n",
    "lemmatizer = WordNetLemmatizer() "
   ]
  },
  {
   "cell_type": "code",
   "execution_count": null,
   "id": "2b5b8295",
   "metadata": {},
   "outputs": [],
   "source": [
    "\"\"\"\n",
    "pos-tag:\n",
    "noun - 'n'\n",
    "verb - 'v'\n",
    "adjactive - 'a'\n",
    "adverb - 'r'\n",
    "\"\"\""
   ]
  },
  {
   "cell_type": "code",
   "execution_count": 49,
   "id": "7e3f3c36",
   "metadata": {},
   "outputs": [
    {
     "data": {
      "text/plain": [
       "'running'"
      ]
     },
     "execution_count": 49,
     "metadata": {},
     "output_type": "execute_result"
    }
   ],
   "source": [
    "lemmatizer.lemmatize('running', pos='n')"
   ]
  },
  {
   "cell_type": "code",
   "execution_count": 50,
   "id": "1aa9fd16",
   "metadata": {},
   "outputs": [
    {
     "data": {
      "text/plain": [
       "'run'"
      ]
     },
     "execution_count": 50,
     "metadata": {},
     "output_type": "execute_result"
    }
   ],
   "source": [
    "lemmatizer.lemmatize('running', pos='v')"
   ]
  },
  {
   "cell_type": "code",
   "execution_count": 56,
   "id": "7f957236",
   "metadata": {},
   "outputs": [
    {
     "name": "stdout",
     "output_type": "stream",
     "text": [
      "going ---> go\n",
      "go ---> go\n",
      "gone ---> go\n",
      "eat ---> eat\n",
      "ate ---> eat\n",
      "eating ---> eat\n"
     ]
    }
   ],
   "source": [
    "for ele in words:\n",
    "    print(f\"{ele} ---> {lemmatizer.lemmatize(ele, pos='v')}\")"
   ]
  },
  {
   "cell_type": "code",
   "execution_count": null,
   "id": "5fd62936",
   "metadata": {},
   "outputs": [],
   "source": []
  }
 ],
 "metadata": {
  "kernelspec": {
   "display_name": "Python 3 (ipykernel)",
   "language": "python",
   "name": "python3"
  },
  "language_info": {
   "codemirror_mode": {
    "name": "ipython",
    "version": 3
   },
   "file_extension": ".py",
   "mimetype": "text/x-python",
   "name": "python",
   "nbconvert_exporter": "python",
   "pygments_lexer": "ipython3",
   "version": "3.9.18"
  }
 },
 "nbformat": 4,
 "nbformat_minor": 5
}
