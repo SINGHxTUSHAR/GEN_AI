{
 "cells": [
  {
   "cell_type": "code",
   "execution_count": 1,
   "id": "b456ec2b",
   "metadata": {},
   "outputs": [
    {
     "name": "stdout",
     "output_type": "stream",
     "text": [
      "Requirement already satisfied: nltk in c:\\users\\dell\\anaconda3\\lib\\site-packages (3.8.1)\n",
      "Requirement already satisfied: click in c:\\users\\dell\\anaconda3\\lib\\site-packages (from nltk) (8.1.7)\n",
      "Requirement already satisfied: joblib in c:\\users\\dell\\anaconda3\\lib\\site-packages (from nltk) (1.2.0)\n",
      "Requirement already satisfied: regex>=2021.8.3 in c:\\users\\dell\\anaconda3\\lib\\site-packages (from nltk) (2023.10.3)\n",
      "Requirement already satisfied: tqdm in c:\\users\\dell\\anaconda3\\lib\\site-packages (from nltk) (4.65.0)\n",
      "Requirement already satisfied: colorama in c:\\users\\dell\\anaconda3\\lib\\site-packages (from click->nltk) (0.4.6)\n"
     ]
    }
   ],
   "source": [
    "# !pip install nltk"
   ]
  },
  {
   "cell_type": "code",
   "execution_count": 11,
   "id": "7577f794",
   "metadata": {},
   "outputs": [],
   "source": [
    "corpus = \"\"\"Hello, my name is TUSHAR SINGH and i am learning NLP from scratch.\n",
    "            This is the file in which we are learning Tokenization in detail.\n",
    "            Welcome everyone.\n",
    "\"\"\""
   ]
  },
  {
   "cell_type": "code",
   "execution_count": 12,
   "id": "870d4681",
   "metadata": {},
   "outputs": [
    {
     "name": "stdout",
     "output_type": "stream",
     "text": [
      "Hello, my name is TUSHAR SINGH and i am learning NLP from scratch.\n",
      "            This is the file in which we are learning Tokenization in detail.\n",
      "            Welcome everyone.\n",
      "\n"
     ]
    }
   ],
   "source": [
    "print(corpus)"
   ]
  },
  {
   "cell_type": "code",
   "execution_count": 13,
   "id": "9f958c07",
   "metadata": {},
   "outputs": [],
   "source": [
    "## sentance tokenization\n",
    "from nltk.tokenize import sent_tokenize"
   ]
  },
  {
   "cell_type": "code",
   "execution_count": 14,
   "id": "b53599c0",
   "metadata": {},
   "outputs": [],
   "source": [
    "document = sent_tokenize(corpus)"
   ]
  },
  {
   "cell_type": "code",
   "execution_count": 15,
   "id": "0fa1a7a2",
   "metadata": {},
   "outputs": [
    {
     "name": "stdout",
     "output_type": "stream",
     "text": [
      "['Hello, my name is TUSHAR SINGH and i am learning NLP from scratch.', 'This is the file in which we are learning Tokenization in detail.', 'Welcome everyone.']\n"
     ]
    }
   ],
   "source": [
    "print(document)"
   ]
  },
  {
   "cell_type": "code",
   "execution_count": 16,
   "id": "77ea73a0",
   "metadata": {},
   "outputs": [
    {
     "name": "stdout",
     "output_type": "stream",
     "text": [
      "Hello, my name is TUSHAR SINGH and i am learning NLP from scratch.\n",
      "This is the file in which we are learning Tokenization in detail.\n",
      "Welcome everyone.\n"
     ]
    }
   ],
   "source": [
    "for sentence in document:\n",
    "    print(sentence)"
   ]
  },
  {
   "cell_type": "code",
   "execution_count": 17,
   "id": "4fe3233c",
   "metadata": {},
   "outputs": [],
   "source": [
    "## word tokenization\n",
    "from nltk.tokenize import word_tokenize"
   ]
  },
  {
   "cell_type": "code",
   "execution_count": 18,
   "id": "78de48b4",
   "metadata": {},
   "outputs": [],
   "source": [
    "word_data = word_tokenize(corpus)"
   ]
  },
  {
   "cell_type": "code",
   "execution_count": 19,
   "id": "b5ac4a5f",
   "metadata": {},
   "outputs": [
    {
     "name": "stdout",
     "output_type": "stream",
     "text": [
      "['Hello', ',', 'my', 'name', 'is', 'TUSHAR', 'SINGH', 'and', 'i', 'am', 'learning', 'NLP', 'from', 'scratch', '.', 'This', 'is', 'the', 'file', 'in', 'which', 'we', 'are', 'learning', 'Tokenization', 'in', 'detail', '.', 'Welcome', 'everyone', '.']\n"
     ]
    }
   ],
   "source": [
    "print(word_data)"
   ]
  },
  {
   "cell_type": "code",
   "execution_count": null,
   "id": "2e16193a",
   "metadata": {},
   "outputs": [],
   "source": []
  },
  {
   "cell_type": "code",
   "execution_count": null,
   "id": "7ba7cf40",
   "metadata": {},
   "outputs": [],
   "source": []
  },
  {
   "cell_type": "code",
   "execution_count": 24,
   "id": "a6d4cace",
   "metadata": {},
   "outputs": [],
   "source": [
    "## Stemming : converting a word to it's base(without meaning)\n",
    "words = ['going', 'go', 'gone', 'eat', 'ate', 'eating']"
   ]
  },
  {
   "cell_type": "code",
   "execution_count": 25,
   "id": "721ab616",
   "metadata": {},
   "outputs": [],
   "source": [
    "## PorterStemmer\n",
    "from nltk.stem import PorterStemmer\n",
    "stemming = PorterStemmer()"
   ]
  },
  {
   "cell_type": "code",
   "execution_count": 26,
   "id": "d7d7a799",
   "metadata": {},
   "outputs": [
    {
     "name": "stdout",
     "output_type": "stream",
     "text": [
      "stemming of the going is --> go\n",
      "stemming of the go is --> go\n",
      "stemming of the gone is --> gone\n",
      "stemming of the eat is --> eat\n",
      "stemming of the ate is --> ate\n",
      "stemming of the eating is --> eat\n"
     ]
    }
   ],
   "source": [
    "for ele in words:\n",
    "    print(f\"stemming of the {ele} is --> {stemming.stem(ele)}\")"
   ]
  },
  {
   "cell_type": "code",
   "execution_count": null,
   "id": "a3e38d85",
   "metadata": {},
   "outputs": [],
   "source": []
  },
  {
   "cell_type": "code",
   "execution_count": 30,
   "id": "b6e9cc8a",
   "metadata": {},
   "outputs": [],
   "source": [
    "## RegexStemmer\n",
    "from nltk.stem import RegexpStemmer\n",
    "regex_stemming = RegexpStemmer('ing$|s$|e$|able$', min=4)"
   ]
  },
  {
   "cell_type": "code",
   "execution_count": 31,
   "id": "b9383600",
   "metadata": {},
   "outputs": [
    {
     "data": {
      "text/plain": [
       "'eat'"
      ]
     },
     "execution_count": 31,
     "metadata": {},
     "output_type": "execute_result"
    }
   ],
   "source": [
    "regex_stemming.stem('eating')"
   ]
  },
  {
   "cell_type": "code",
   "execution_count": null,
   "id": "b28007fe",
   "metadata": {},
   "outputs": [],
   "source": []
  },
  {
   "cell_type": "code",
   "execution_count": 33,
   "id": "ef7b03d5",
   "metadata": {},
   "outputs": [],
   "source": [
    "## SnowBall Stemmer : better than porterStemmer\n",
    "from nltk.stem import SnowballStemmer\n",
    "snowballstemmer = SnowballStemmer('english')"
   ]
  },
  {
   "cell_type": "code",
   "execution_count": 34,
   "id": "989db8fb",
   "metadata": {},
   "outputs": [
    {
     "name": "stdout",
     "output_type": "stream",
     "text": [
      "stemming of going is ---> go\n",
      "stemming of go is ---> go\n",
      "stemming of gone is ---> gone\n",
      "stemming of eat is ---> eat\n",
      "stemming of ate is ---> ate\n",
      "stemming of eating is ---> eat\n"
     ]
    }
   ],
   "source": [
    "for word in words:\n",
    "    print(f\"stemming of {word} is ---> {snowballstemmer.stem(word)}\")"
   ]
  },
  {
   "cell_type": "code",
   "execution_count": 38,
   "id": "0be2867b",
   "metadata": {},
   "outputs": [
    {
     "name": "stdout",
     "output_type": "stream",
     "text": [
      "porterStemmer : fairly ---> fairli\n",
      "SnowballStemmer : fairly ---> fair\n"
     ]
    }
   ],
   "source": [
    "## difference between the porterStemmer & SnowballStemmer\n",
    "word = 'fairly'\n",
    "print(f\"porterStemmer : {word} ---> {stemming.stem(word)}\")\n",
    "print(f\"SnowballStemmer : {word} ---> {snowballstemmer.stem(word)}\")"
   ]
  },
  {
   "cell_type": "code",
   "execution_count": null,
   "id": "9e928903",
   "metadata": {},
   "outputs": [],
   "source": []
  },
  {
   "cell_type": "code",
   "execution_count": 28,
   "id": "e5786722",
   "metadata": {},
   "outputs": [
    {
     "data": {
      "text/plain": [
       "'congratul'"
      ]
     },
     "execution_count": 28,
     "metadata": {},
     "output_type": "execute_result"
    }
   ],
   "source": [
    "## Disadvantage of stemming : the base word doesn't necessarly have a meaning\n",
    "stemming.stem('congratulation')"
   ]
  },
  {
   "cell_type": "code",
   "execution_count": null,
   "id": "07262511",
   "metadata": {},
   "outputs": [],
   "source": []
  },
  {
   "cell_type": "code",
   "execution_count": null,
   "id": "f3d2d83e",
   "metadata": {},
   "outputs": [],
   "source": []
  }
 ],
 "metadata": {
  "kernelspec": {
   "display_name": "Python 3 (ipykernel)",
   "language": "python",
   "name": "python3"
  },
  "language_info": {
   "codemirror_mode": {
    "name": "ipython",
    "version": 3
   },
   "file_extension": ".py",
   "mimetype": "text/x-python",
   "name": "python",
   "nbconvert_exporter": "python",
   "pygments_lexer": "ipython3",
   "version": "3.9.18"
  }
 },
 "nbformat": 4,
 "nbformat_minor": 5
}
