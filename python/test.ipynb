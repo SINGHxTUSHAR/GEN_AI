{
 "cells": [
  {
   "cell_type": "code",
   "execution_count": null,
   "metadata": {},
   "outputs": [],
   "source": []
  },
  {
   "cell_type": "markdown",
   "metadata": {},
   "source": [
    "just checking :"
   ]
  },
  {
   "cell_type": "code",
   "execution_count": 1,
   "metadata": {},
   "outputs": [
    {
     "data": {
      "text/plain": [
       "2"
      ]
     },
     "execution_count": 1,
     "metadata": {},
     "output_type": "execute_result"
    }
   ],
   "source": [
    "1+1"
   ]
  },
  {
   "cell_type": "code",
   "execution_count": null,
   "metadata": {},
   "outputs": [],
   "source": []
  },
  {
   "cell_type": "markdown",
   "metadata": {},
   "source": [
    "### Random test file:"
   ]
  },
  {
   "cell_type": "code",
   "execution_count": null,
   "metadata": {},
   "outputs": [],
   "source": []
  },
  {
   "cell_type": "code",
   "execution_count": 4,
   "metadata": {},
   "outputs": [
    {
     "name": "stdout",
     "output_type": "stream",
     "text": [
      "{'RAWAT,', 'and', 'am', 'my', 'TUSHAR', 'functionality!', 'SINGH', 'this', 'set', 'repeat', 'check,i', 'is', 'checking', 'name', 'hello,'}\n",
      "15\n"
     ]
    }
   ],
   "source": [
    "phrase = \"hello, my name is TUSHAR SINGH RAWAT, and this is check,i am checking set functionality! and repeat is TUSHAR\"\n",
    "words = phrase.split()\n",
    "unique_words = set(words)\n",
    "print(unique_words)\n",
    "print(len(unique_words))\n"
   ]
  },
  {
   "cell_type": "code",
   "execution_count": 10,
   "metadata": {},
   "outputs": [
    {
     "name": "stdout",
     "output_type": "stream",
     "text": [
      "<class 'set'>\n",
      "<class 'dict'>\n",
      "<class 'dict'>\n"
     ]
    }
   ],
   "source": [
    "random_check = {1,2,8,3,5}\n",
    "print(type(random_check))\n",
    "\n",
    "rand_dict = {}\n",
    "print(type(rand_dict))\n",
    "\n",
    "empty_dict = dict()\n",
    "print(type(empty_dict))"
   ]
  },
  {
   "cell_type": "code",
   "execution_count": null,
   "metadata": {},
   "outputs": [],
   "source": []
  },
  {
   "cell_type": "code",
   "execution_count": 14,
   "metadata": {},
   "outputs": [
    {
     "name": "stdout",
     "output_type": "stream",
     "text": [
      "{1: 6, 2: 3, 3: 6, 4: 1, 5: 3, 6: 4, 9: 1}\n"
     ]
    }
   ],
   "source": [
    "numbers = [1,1,1,1,1,1,2,2,2,3,3,3,3,4,3,3,5,5,5,6,6,6,6,9]\n",
    "freq = {}\n",
    "\n",
    "for number in numbers:\n",
    "    if number in freq:\n",
    "        freq[number] += 1\n",
    "    else:\n",
    "        freq[number] = 1\n",
    "        \n",
    "print(freq)"
   ]
  },
  {
   "cell_type": "code",
   "execution_count": null,
   "metadata": {},
   "outputs": [],
   "source": []
  },
  {
   "cell_type": "code",
   "execution_count": 29,
   "metadata": {},
   "outputs": [],
   "source": [
    "## func to check whether the num is even or odd and num shold be greater than 0\n",
    "def even_odd(num):\n",
    "    if num >= 0:\n",
    "        if num % 2==0:\n",
    "            return \"even\"\n",
    "        else:\n",
    "            return \"odd\"\n",
    "    else:\n",
    "        return \"wrong input\""
   ]
  },
  {
   "cell_type": "code",
   "execution_count": 21,
   "metadata": {},
   "outputs": [
    {
     "name": "stdout",
     "output_type": "stream",
     "text": [
      "even nuber\n"
     ]
    }
   ],
   "source": [
    "result = even_odd(54)\n",
    "if result == True:\n",
    "    print(\"even nuber\")\n",
    "else: print(\"odd number\")"
   ]
  },
  {
   "cell_type": "code",
   "execution_count": 30,
   "metadata": {},
   "outputs": [
    {
     "name": "stdout",
     "output_type": "stream",
     "text": [
      "even\n"
     ]
    }
   ],
   "source": [
    "ans = even_odd(0)\n",
    "print(ans)"
   ]
  },
  {
   "cell_type": "code",
   "execution_count": null,
   "metadata": {},
   "outputs": [],
   "source": []
  },
  {
   "cell_type": "code",
   "execution_count": 36,
   "metadata": {},
   "outputs": [],
   "source": [
    "num = 9"
   ]
  },
  {
   "cell_type": "code",
   "execution_count": 37,
   "metadata": {},
   "outputs": [],
   "source": [
    "if(9 == num):\n",
    "    pass\n",
    "else:\n",
    "    print(\"dd\")"
   ]
  },
  {
   "cell_type": "code",
   "execution_count": null,
   "metadata": {},
   "outputs": [],
   "source": []
  },
  {
   "cell_type": "code",
   "execution_count": 46,
   "metadata": {},
   "outputs": [],
   "source": [
    "## fun to greet people\n",
    "def greet(name=\"himanshu\"): #deafult para\n",
    "    print(f\"Hello, {name} welcome to my home!\")"
   ]
  },
  {
   "cell_type": "code",
   "execution_count": 47,
   "metadata": {},
   "outputs": [
    {
     "name": "stdout",
     "output_type": "stream",
     "text": [
      "Hello, himanshu welcome to my home!\n"
     ]
    }
   ],
   "source": [
    "greet()"
   ]
  },
  {
   "cell_type": "code",
   "execution_count": 51,
   "metadata": {},
   "outputs": [],
   "source": [
    "def print_num(*args): ## positional argument\n",
    "    for num in args:\n",
    "        print(num)"
   ]
  },
  {
   "cell_type": "code",
   "execution_count": 52,
   "metadata": {},
   "outputs": [
    {
     "name": "stdout",
     "output_type": "stream",
     "text": [
      "1\n",
      "2\n",
      "3\n",
      "4\n",
      "5\n",
      "6\n"
     ]
    }
   ],
   "source": [
    "print_num(1,2,3,4,5,6)"
   ]
  },
  {
   "cell_type": "code",
   "execution_count": 75,
   "metadata": {},
   "outputs": [],
   "source": [
    "def print_details(*args, **kwargs): ##keyword argument\n",
    "    for value in args:\n",
    "        print(f\"position = {value}\")\n",
    "    for key,value in kwargs.items():\n",
    "        print(\"{}:{}\".format(key,value))"
   ]
  },
  {
   "cell_type": "code",
   "execution_count": 76,
   "metadata": {},
   "outputs": [
    {
     "name": "stdout",
     "output_type": "stream",
     "text": [
      "position = 69\n",
      "name:tushar\n",
      "age:22\n",
      "marks:80\n",
      "hobbie:gaming\n"
     ]
    }
   ],
   "source": [
    "print_details(69 ,name=\"tushar\", age=22, marks=80, hobbie = \"gaming\")"
   ]
  },
  {
   "cell_type": "code",
   "execution_count": 57,
   "metadata": {},
   "outputs": [
    {
     "data": {
      "text/plain": [
       "dict"
      ]
     },
     "execution_count": 57,
     "metadata": {},
     "output_type": "execute_result"
    }
   ],
   "source": [
    "details = {\"name\":\"tushar\", \"age\":22, \"year\": 2024}\n",
    "type(details)"
   ]
  },
  {
   "cell_type": "code",
   "execution_count": 80,
   "metadata": {},
   "outputs": [],
   "source": [
    "## func to convert the temp from one unit to another\n",
    "def convert(temp,unit):\n",
    "    if unit.lower() == 'c':\n",
    "        return (temp * 9/5) + 32 , \"F\"\n",
    "    elif unit.lower() == 'f':\n",
    "        return (temp - 32) * 5/9 , \"C\"\n",
    "    else:\n",
    "        return \"Invalid unit. Please use 'C' for Celsius or 'F' for Fahrenheit.\""
   ]
  },
  {
   "cell_type": "code",
   "execution_count": 83,
   "metadata": {},
   "outputs": [
    {
     "name": "stdout",
     "output_type": "stream",
     "text": [
      "temperature is 77.0 F\n"
     ]
    }
   ],
   "source": [
    "temperature,unit = convert(25,\"C\")\n",
    "print(f\"temperature is {temperature} {unit}\")"
   ]
  },
  {
   "cell_type": "code",
   "execution_count": null,
   "metadata": {},
   "outputs": [],
   "source": []
  },
  {
   "cell_type": "code",
   "execution_count": null,
   "metadata": {},
   "outputs": [],
   "source": []
  }
 ],
 "metadata": {
  "kernelspec": {
   "display_name": "Python 3",
   "language": "python",
   "name": "python3"
  },
  "language_info": {
   "codemirror_mode": {
    "name": "ipython",
    "version": 3
   },
   "file_extension": ".py",
   "mimetype": "text/x-python",
   "name": "python",
   "nbconvert_exporter": "python",
   "pygments_lexer": "ipython3",
   "version": "3.12.0"
  }
 },
 "nbformat": 4,
 "nbformat_minor": 2
}
