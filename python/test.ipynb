{
 "cells": [
  {
   "cell_type": "code",
   "execution_count": null,
   "metadata": {},
   "outputs": [],
   "source": []
  },
  {
   "cell_type": "markdown",
   "metadata": {},
   "source": [
    "just checking :"
   ]
  },
  {
   "cell_type": "code",
   "execution_count": 1,
   "metadata": {},
   "outputs": [
    {
     "data": {
      "text/plain": [
       "2"
      ]
     },
     "execution_count": 1,
     "metadata": {},
     "output_type": "execute_result"
    }
   ],
   "source": [
    "1+1"
   ]
  },
  {
   "cell_type": "code",
   "execution_count": null,
   "metadata": {},
   "outputs": [],
   "source": []
  },
  {
   "cell_type": "markdown",
   "metadata": {},
   "source": [
    "### Random test file:"
   ]
  },
  {
   "cell_type": "code",
   "execution_count": null,
   "metadata": {},
   "outputs": [],
   "source": []
  },
  {
   "cell_type": "code",
   "execution_count": 4,
   "metadata": {},
   "outputs": [
    {
     "name": "stdout",
     "output_type": "stream",
     "text": [
      "{'RAWAT,', 'and', 'am', 'my', 'TUSHAR', 'functionality!', 'SINGH', 'this', 'set', 'repeat', 'check,i', 'is', 'checking', 'name', 'hello,'}\n",
      "15\n"
     ]
    }
   ],
   "source": [
    "phrase = \"hello, my name is TUSHAR SINGH RAWAT, and this is check,i am checking set functionality! and repeat is TUSHAR\"\n",
    "words = phrase.split()\n",
    "unique_words = set(words)\n",
    "print(unique_words)\n",
    "print(len(unique_words))\n"
   ]
  },
  {
   "cell_type": "code",
   "execution_count": 10,
   "metadata": {},
   "outputs": [
    {
     "name": "stdout",
     "output_type": "stream",
     "text": [
      "<class 'set'>\n",
      "<class 'dict'>\n",
      "<class 'dict'>\n"
     ]
    }
   ],
   "source": [
    "random_check = {1,2,8,3,5}\n",
    "print(type(random_check))\n",
    "\n",
    "rand_dict = {}\n",
    "print(type(rand_dict))\n",
    "\n",
    "empty_dict = dict()\n",
    "print(type(empty_dict))"
   ]
  },
  {
   "cell_type": "code",
   "execution_count": null,
   "metadata": {},
   "outputs": [],
   "source": []
  },
  {
   "cell_type": "code",
   "execution_count": 14,
   "metadata": {},
   "outputs": [
    {
     "name": "stdout",
     "output_type": "stream",
     "text": [
      "{1: 6, 2: 3, 3: 6, 4: 1, 5: 3, 6: 4, 9: 1}\n"
     ]
    }
   ],
   "source": [
    "numbers = [1,1,1,1,1,1,2,2,2,3,3,3,3,4,3,3,5,5,5,6,6,6,6,9]\n",
    "freq = {}\n",
    "\n",
    "for number in numbers:\n",
    "    if number in freq:\n",
    "        freq[number] += 1\n",
    "    else:\n",
    "        freq[number] = 1\n",
    "        \n",
    "print(freq)"
   ]
  },
  {
   "cell_type": "code",
   "execution_count": null,
   "metadata": {},
   "outputs": [],
   "source": []
  },
  {
   "cell_type": "code",
   "execution_count": 29,
   "metadata": {},
   "outputs": [],
   "source": [
    "## func to check whether the num is even or odd and num shold be greater than 0\n",
    "def even_odd(num):\n",
    "    if num >= 0:\n",
    "        if num % 2==0:\n",
    "            return \"even\"\n",
    "        else:\n",
    "            return \"odd\"\n",
    "    else:\n",
    "        return \"wrong input\""
   ]
  },
  {
   "cell_type": "code",
   "execution_count": 21,
   "metadata": {},
   "outputs": [
    {
     "name": "stdout",
     "output_type": "stream",
     "text": [
      "even nuber\n"
     ]
    }
   ],
   "source": [
    "result = even_odd(54)\n",
    "if result == True:\n",
    "    print(\"even nuber\")\n",
    "else: print(\"odd number\")"
   ]
  },
  {
   "cell_type": "code",
   "execution_count": 30,
   "metadata": {},
   "outputs": [
    {
     "name": "stdout",
     "output_type": "stream",
     "text": [
      "even\n"
     ]
    }
   ],
   "source": [
    "ans = even_odd(0)\n",
    "print(ans)"
   ]
  },
  {
   "cell_type": "code",
   "execution_count": null,
   "metadata": {},
   "outputs": [],
   "source": []
  },
  {
   "cell_type": "code",
   "execution_count": 36,
   "metadata": {},
   "outputs": [],
   "source": [
    "num = 9"
   ]
  },
  {
   "cell_type": "code",
   "execution_count": 37,
   "metadata": {},
   "outputs": [],
   "source": [
    "if(9 == num):\n",
    "    pass\n",
    "else:\n",
    "    print(\"dd\")"
   ]
  },
  {
   "cell_type": "code",
   "execution_count": null,
   "metadata": {},
   "outputs": [],
   "source": []
  },
  {
   "cell_type": "code",
   "execution_count": 46,
   "metadata": {},
   "outputs": [],
   "source": [
    "## fun to greet people\n",
    "def greet(name=\"himanshu\"): #deafult para\n",
    "    print(f\"Hello, {name} welcome to my home!\")"
   ]
  },
  {
   "cell_type": "code",
   "execution_count": 47,
   "metadata": {},
   "outputs": [
    {
     "name": "stdout",
     "output_type": "stream",
     "text": [
      "Hello, himanshu welcome to my home!\n"
     ]
    }
   ],
   "source": [
    "greet()"
   ]
  },
  {
   "cell_type": "code",
   "execution_count": 51,
   "metadata": {},
   "outputs": [],
   "source": [
    "def print_num(*args): ## positional argument\n",
    "    for num in args:\n",
    "        print(num)"
   ]
  },
  {
   "cell_type": "code",
   "execution_count": 52,
   "metadata": {},
   "outputs": [
    {
     "name": "stdout",
     "output_type": "stream",
     "text": [
      "1\n",
      "2\n",
      "3\n",
      "4\n",
      "5\n",
      "6\n"
     ]
    }
   ],
   "source": [
    "print_num(1,2,3,4,5,6)"
   ]
  },
  {
   "cell_type": "code",
   "execution_count": 75,
   "metadata": {},
   "outputs": [],
   "source": [
    "def print_details(*args, **kwargs): ##keyword argument\n",
    "    for value in args:\n",
    "        print(f\"position = {value}\")\n",
    "    for key,value in kwargs.items():\n",
    "        print(\"{}:{}\".format(key,value))"
   ]
  },
  {
   "cell_type": "code",
   "execution_count": 76,
   "metadata": {},
   "outputs": [
    {
     "name": "stdout",
     "output_type": "stream",
     "text": [
      "position = 69\n",
      "name:tushar\n",
      "age:22\n",
      "marks:80\n",
      "hobbie:gaming\n"
     ]
    }
   ],
   "source": [
    "print_details(69 ,name=\"tushar\", age=22, marks=80, hobbie = \"gaming\")"
   ]
  },
  {
   "cell_type": "code",
   "execution_count": 57,
   "metadata": {},
   "outputs": [
    {
     "data": {
      "text/plain": [
       "dict"
      ]
     },
     "execution_count": 57,
     "metadata": {},
     "output_type": "execute_result"
    }
   ],
   "source": [
    "details = {\"name\":\"tushar\", \"age\":22, \"year\": 2024}\n",
    "type(details)"
   ]
  },
  {
   "cell_type": "code",
   "execution_count": 80,
   "metadata": {},
   "outputs": [],
   "source": [
    "## func to convert the temp from one unit to another\n",
    "def convert(temp,unit):\n",
    "    if unit.lower() == 'c':\n",
    "        return (temp * 9/5) + 32 , \"F\"\n",
    "    elif unit.lower() == 'f':\n",
    "        return (temp - 32) * 5/9 , \"C\"\n",
    "    else:\n",
    "        return \"Invalid unit. Please use 'C' for Celsius or 'F' for Fahrenheit.\""
   ]
  },
  {
   "cell_type": "code",
   "execution_count": 83,
   "metadata": {},
   "outputs": [
    {
     "name": "stdout",
     "output_type": "stream",
     "text": [
      "temperature is 77.0 F\n"
     ]
    }
   ],
   "source": [
    "temperature,unit = convert(25,\"C\")\n",
    "print(f\"temperature is {temperature} {unit}\")"
   ]
  },
  {
   "cell_type": "code",
   "execution_count": 1,
   "metadata": {},
   "outputs": [],
   "source": [
    "def check_palindrome(str):\n",
    "    s = str.lower().replace(\" \", \"\")\n",
    "    return s == s[::-1]"
   ]
  },
  {
   "cell_type": "code",
   "execution_count": 3,
   "metadata": {},
   "outputs": [
    {
     "data": {
      "text/plain": [
       "True"
      ]
     },
     "execution_count": 3,
     "metadata": {},
     "output_type": "execute_result"
    }
   ],
   "source": [
    "check_palindrome(\"my name is xyz\")\n",
    "check_palindrome(\"aabbaa\")"
   ]
  },
  {
   "cell_type": "code",
   "execution_count": 6,
   "metadata": {},
   "outputs": [],
   "source": [
    "sum = lambda a,b : a+b"
   ]
  },
  {
   "cell_type": "code",
   "execution_count": 7,
   "metadata": {},
   "outputs": [
    {
     "data": {
      "text/plain": [
       "11"
      ]
     },
     "execution_count": 7,
     "metadata": {},
     "output_type": "execute_result"
    }
   ],
   "source": [
    "sum(5,6)"
   ]
  },
  {
   "cell_type": "code",
   "execution_count": 10,
   "metadata": {},
   "outputs": [
    {
     "data": {
      "text/plain": [
       "[1, 4, 9, 16, 25]"
      ]
     },
     "execution_count": 10,
     "metadata": {},
     "output_type": "execute_result"
    }
   ],
   "source": [
    "list(map(lambda x: x**2, [1, 2, 3, 4, 5]))"
   ]
  },
  {
   "cell_type": "code",
   "execution_count": 12,
   "metadata": {},
   "outputs": [
    {
     "data": {
      "text/plain": [
       "[1, 4, 9, 16, 25]"
      ]
     },
     "execution_count": 12,
     "metadata": {},
     "output_type": "execute_result"
    }
   ],
   "source": [
    "[x*x for x in range(1,6)]"
   ]
  },
  {
   "cell_type": "code",
   "execution_count": 13,
   "metadata": {},
   "outputs": [
    {
     "data": {
      "text/plain": [
       "[2, 4, 6, 8, 10]"
      ]
     },
     "execution_count": 13,
     "metadata": {},
     "output_type": "execute_result"
    }
   ],
   "source": [
    "[num for num in range(1, 11) if num%2 == 0]"
   ]
  },
  {
   "cell_type": "code",
   "execution_count": 14,
   "metadata": {},
   "outputs": [
    {
     "data": {
      "text/plain": [
       "[7, 9, 11, 13, 15]"
      ]
     },
     "execution_count": 14,
     "metadata": {},
     "output_type": "execute_result"
    }
   ],
   "source": [
    "num1 = [1,2,3,4,5]\n",
    "num2 = [6,7,8,9,10]\n",
    "\n",
    "list(map(lambda x,y : x+y, num1, num2))"
   ]
  },
  {
   "cell_type": "code",
   "execution_count": 19,
   "metadata": {},
   "outputs": [
    {
     "data": {
      "text/plain": [
       "['TUSHAR', 'SINGH', 'RAWAT']"
      ]
     },
     "execution_count": 19,
     "metadata": {},
     "output_type": "execute_result"
    }
   ],
   "source": [
    "words = [\"tushar\",\"singh\",\"rawat\"]\n",
    "\n",
    "list(map(lambda str: str.upper(),words)) ##map : maps the func() to iterator"
   ]
  },
  {
   "cell_type": "code",
   "execution_count": 20,
   "metadata": {},
   "outputs": [
    {
     "data": {
      "text/plain": [
       "[2, 4, 6, 8, 10]"
      ]
     },
     "execution_count": 20,
     "metadata": {},
     "output_type": "execute_result"
    }
   ],
   "source": [
    "list(filter(lambda x : x%2 == 0, [1,2,3,4,5,6,7,8,9,10]))  ##filter : filter out the selective iterators"
   ]
  },
  {
   "cell_type": "code",
   "execution_count": 25,
   "metadata": {},
   "outputs": [
    {
     "data": {
      "text/plain": [
       "[{'name': 'mohit', 'age': 25}]"
      ]
     },
     "execution_count": 25,
     "metadata": {},
     "output_type": "execute_result"
    }
   ],
   "source": [
    "people = [\n",
    "    {\"name\":\"mohit\", \"age\":25},\n",
    "    {\"name\":\"jadu\", \"age\":20}\n",
    "]\n",
    "\n",
    "list(filter(lambda person: person[\"age\"] > 20, people))"
   ]
  },
  {
   "cell_type": "code",
   "execution_count": 26,
   "metadata": {},
   "outputs": [
    {
     "data": {
      "text/plain": [
       "4.0"
      ]
     },
     "execution_count": 26,
     "metadata": {},
     "output_type": "execute_result"
    }
   ],
   "source": [
    "import math\n",
    "math.sqrt(16)"
   ]
  },
  {
   "cell_type": "code",
   "execution_count": 2,
   "metadata": {},
   "outputs": [
    {
     "name": "stdout",
     "output_type": "stream",
     "text": [
      "3.0\n",
      "3.141592653589793\n"
     ]
    }
   ],
   "source": [
    "from math import sqrt,pi\n",
    "print(sqrt(9))\n",
    "print(pi)"
   ]
  },
  {
   "cell_type": "code",
   "execution_count": 3,
   "metadata": {},
   "outputs": [],
   "source": [
    "import numpy as np"
   ]
  },
  {
   "cell_type": "code",
   "execution_count": 8,
   "metadata": {},
   "outputs": [
    {
     "name": "stdout",
     "output_type": "stream",
     "text": [
      "[1 2 3 4 5]\n"
     ]
    }
   ],
   "source": [
    "arr = np.array([1,2,3,4,5])\n",
    "print(arr)"
   ]
  },
  {
   "cell_type": "code",
   "execution_count": 17,
   "metadata": {},
   "outputs": [],
   "source": [
    "from math import * ##importing all functionality from math module"
   ]
  },
  {
   "cell_type": "code",
   "execution_count": 16,
   "metadata": {},
   "outputs": [
    {
     "name": "stdout",
     "output_type": "stream",
     "text": [
      "11\n",
      "6\n"
     ]
    }
   ],
   "source": [
    "from package.maths import addition, multiplication ## custom package\n",
    "print(addition(5,6))\n",
    "print(multiplication(2,3))"
   ]
  },
  {
   "cell_type": "code",
   "execution_count": 19,
   "metadata": {},
   "outputs": [
    {
     "name": "stdout",
     "output_type": "stream",
     "text": [
      "8\n",
      "rock\n"
     ]
    }
   ],
   "source": [
    "from random import randint, choice\n",
    "print(randint(1,10))\n",
    "print(choice(['rock', 'paper', 'scissors']))"
   ]
  },
  {
   "cell_type": "code",
   "execution_count": 20,
   "metadata": {},
   "outputs": [
    {
     "name": "stdout",
     "output_type": "stream",
     "text": [
      "c:\\Users\\dell\\Desktop\\GEN_AI\\python\n"
     ]
    }
   ],
   "source": [
    "import os\n",
    "print(os.getcwd())"
   ]
  },
  {
   "cell_type": "code",
   "execution_count": 21,
   "metadata": {},
   "outputs": [
    {
     "data": {
      "text/plain": [
       "'shutil_test_2.txt'"
      ]
     },
     "execution_count": 21,
     "metadata": {},
     "output_type": "execute_result"
    }
   ],
   "source": [
    "## to deal with the high level operation \n",
    "import shutil\n",
    "shutil.copyfile('shutil_test_1.txt', 'shutil_test_2.txt')"
   ]
  },
  {
   "cell_type": "code",
   "execution_count": 24,
   "metadata": {},
   "outputs": [
    {
     "name": "stdout",
     "output_type": "stream",
     "text": [
      "{\"name\": \"tushar\", \"age\": 22, \"city\": \"uk\"}\n",
      "<class 'str'>\n",
      "{'name': 'tushar', 'age': 22, 'city': 'uk'}\n",
      "<class 'dict'>\n"
     ]
    }
   ],
   "source": [
    "## data serialization\n",
    "import json\n",
    "data = {\"name\" : \"tushar\", \"age\" : 22, \"city\" : \"uk\"} ##dict\n",
    "\n",
    "json_data_str = json.dumps(data)\n",
    "print(json_data_str)\n",
    "print(type(json_data_str))\n",
    "\n",
    "parsed_data = json.loads(json_data_str)\n",
    "print(parsed_data)\n",
    "print(type(parsed_data))"
   ]
  },
  {
   "cell_type": "code",
   "execution_count": 40,
   "metadata": {},
   "outputs": [
    {
     "name": "stdout",
     "output_type": "stream",
     "text": [
      "['Name', 'Age', 'City']\n",
      "['jatin', '21', 'gau_gavdi']\n",
      "['kanishk', '22', 'moj_pur chapri']\n"
     ]
    }
   ],
   "source": [
    "## working with the csv file\n",
    "\n",
    "import csv\n",
    "\n",
    "with open('example.csv',mode = 'w', newline='') as file:\n",
    "    writer = csv.writer(file)\n",
    "    writer.writerow(['Name', 'Age', 'City'])\n",
    "    writer.writerow(['jatin', '21', 'gau_gavdi'])\n",
    "    writer.writerow(['kanishk', '22', 'moj_pur chapri'])\n",
    "    \n",
    "with open('example.csv', mode = 'r') as file:\n",
    "    reader = csv.reader(file)\n",
    "    for row in reader:\n",
    "        print(row)"
   ]
  },
  {
   "cell_type": "code",
   "execution_count": 27,
   "metadata": {},
   "outputs": [
    {
     "name": "stdout",
     "output_type": "stream",
     "text": [
      "2024-12-24 10:34:46.049781\n",
      "2024-12-23 10:34:46.049781\n"
     ]
    }
   ],
   "source": [
    "## datetime\n",
    "from datetime import datetime,timedelta\n",
    "now = datetime.now()\n",
    "print(now)\n",
    "\n",
    "yesterday = now - timedelta(days = 1)\n",
    "print(yesterday)"
   ]
  },
  {
   "cell_type": "code",
   "execution_count": null,
   "metadata": {},
   "outputs": [],
   "source": []
  },
  {
   "cell_type": "code",
   "execution_count": 42,
   "metadata": {},
   "outputs": [
    {
     "name": "stdout",
     "output_type": "stream",
     "text": [
      "Name,Age,City\n",
      "jatin,21,gau_gavdi\n",
      "kanishk,22,moj_pur chapri\n",
      "\n",
      "This is a new line\n",
      "Name,Age,City\n",
      "jatin,21,gau_gavdi\n",
      "kanishk,22,moj_pur chapri\n",
      "\n",
      "This is a new line\n",
      "Name,Age,City\n",
      "jatin,21,gau_gavdi\n",
      "kanishk,22,moj_pur chapri\n",
      "\n",
      "This is a new line\n",
      "This is a new line\n"
     ]
    }
   ],
   "source": [
    "## reading whole file\n",
    "with open('example.csv', mode= 'r') as file:\n",
    "    content = file.read()\n",
    "    print(content)\n",
    "    \n",
    "    \n",
    "## reading file line by line\n",
    "with open('example.csv', mode= 'r') as file:\n",
    "    for line in file:\n",
    "        print(line.strip())\n",
    "        \n",
    "## appending data to a file\n",
    "with open('example.csv', mode= 'a') as file:\n",
    "    file.write('\\nThis is a new line')\n",
    "with open('example.csv', mode= 'r') as file:\n",
    "    content = file.read()\n",
    "    print(content)"
   ]
  },
  {
   "cell_type": "code",
   "execution_count": 43,
   "metadata": {},
   "outputs": [],
   "source": [
    "## adding multi lines to the file using 'a' mode & writelines\n",
    "corpus = [\n",
    "    'first line \\n',\n",
    "    'second line \\n',\n",
    "    'third line \\n'\n",
    "]\n",
    "\n",
    "with open('example.csv',mode='a')as file:\n",
    "    file.writelines(corpus)"
   ]
  },
  {
   "cell_type": "code",
   "execution_count": 44,
   "metadata": {},
   "outputs": [],
   "source": [
    "## copying a file to another\n",
    "with open('example.csv',mode='r') as source_file:\n",
    "    content = source_file.read()\n",
    "with open('destination_copied.csv', mode='w') as destination_file:\n",
    "    destination_file.write(content)"
   ]
  },
  {
   "cell_type": "code",
   "execution_count": null,
   "metadata": {},
   "outputs": [],
   "source": []
  },
  {
   "cell_type": "code",
   "execution_count": null,
   "metadata": {},
   "outputs": [],
   "source": []
  },
  {
   "cell_type": "code",
   "execution_count": null,
   "metadata": {},
   "outputs": [],
   "source": []
  },
  {
   "cell_type": "code",
   "execution_count": null,
   "metadata": {},
   "outputs": [],
   "source": []
  }
 ],
 "metadata": {
  "kernelspec": {
   "display_name": "Python 3",
   "language": "python",
   "name": "python3"
  },
  "language_info": {
   "codemirror_mode": {
    "name": "ipython",
    "version": 3
   },
   "file_extension": ".py",
   "mimetype": "text/x-python",
   "name": "python",
   "nbconvert_exporter": "python",
   "pygments_lexer": "ipython3",
   "version": "3.12.0"
  }
 },
 "nbformat": 4,
 "nbformat_minor": 2
}
