{
 "cells": [
  {
   "cell_type": "code",
   "execution_count": 2,
   "metadata": {},
   "outputs": [
    {
     "name": "stdout",
     "output_type": "stream",
     "text": [
      "dog1 name is Dollar and age is 7\n",
      "Woof!\n",
      "None\n"
     ]
    }
   ],
   "source": [
    "## oops in python\n",
    "## instance variable in a class\n",
    "class Dog:\n",
    "    ## constructor : used to assign the value, as this is the first thing to get run\n",
    "    def __init__(self, name, age):\n",
    "        self.name = name ## instance variable : properties about dog\n",
    "        self.age = age\n",
    "\n",
    "    ## instance methods\n",
    "    def bark(self):\n",
    "        print(\"Woof!\")\n",
    "\n",
    "## objects\n",
    "dog1 = Dog(\"Dollar\", 7)\n",
    "dog2 = Dog(\"blacki\", 5)\n",
    "\n",
    "print(f\"dog1 name is {dog1.name} and age is {dog1.age}\")\n",
    "print(dog1.bark())"
   ]
  },
  {
   "cell_type": "code",
   "execution_count": 17,
   "metadata": {},
   "outputs": [],
   "source": [
    "## define a class with BankAccount having customer data\n",
    "class BankAccount:\n",
    "    def __init__(self, customer_name, customer_age, customer_id, balance):\n",
    "        self.customer_name = customer_name\n",
    "        self.customer_age = customer_age\n",
    "        self.customer_id = customer_id\n",
    "        self.balance = balance\n",
    "        \n",
    "    def deposit(self, amount):\n",
    "        self.balance += amount\n",
    "        print(f\"Amount deposited successfully and balance is {self.balance}\")\n",
    "        \n",
    "    def withdraw(self, amount):\n",
    "        if self.balance >= amount:\n",
    "            self.balance -= amount\n",
    "        else:\n",
    "            print(\"Insufficient balance\")\n",
    "        print(f\"Amount withdrawn successfully and balance is {self.balance}\")\n",
    "        \n",
    "    def get_balance(self):\n",
    "        print(f\"Balance is {self.balance}\")\n",
    "            \n",
    "customer_1 = BankAccount(\"Dhruv\", 22, 1231, 10000)\n",
    "customer_2 = BankAccount(\"gaurav\", 23, 1232, 20000)\n",
    "customer_3 = BankAccount(\"sahil\", 24, 1233, 30000)\n",
    "        \n",
    "        "
   ]
  },
  {
   "cell_type": "code",
   "execution_count": 9,
   "metadata": {},
   "outputs": [
    {
     "name": "stdout",
     "output_type": "stream",
     "text": [
      "Details about the customer_1 is -> Dhruv\n",
      "Details about the customer_2 is -> gaurav\n",
      "Dhruv account balance is 10000\n"
     ]
    }
   ],
   "source": [
    "print(f\"Details about the customer_1 is -> {customer_1.customer_name}\")\n",
    "print(f\"Details about the customer_2 is -> {customer_2.customer_name}\")\n",
    "print(f\"Dhruv account balance is {customer_1.balance}\")"
   ]
  },
  {
   "cell_type": "code",
   "execution_count": 11,
   "metadata": {},
   "outputs": [
    {
     "name": "stdout",
     "output_type": "stream",
     "text": [
      "total available balance for sahil is 43000\n"
     ]
    }
   ],
   "source": [
    "customer_3.deposit(6500)\n",
    "print(f\"total available balance for {customer_3.customer_name} is {customer_3.balance}\")"
   ]
  },
  {
   "cell_type": "code",
   "execution_count": 13,
   "metadata": {},
   "outputs": [
    {
     "name": "stdout",
     "output_type": "stream",
     "text": [
      "Insufficient balance\n",
      "total available balance for sahil is 10000\n"
     ]
    }
   ],
   "source": [
    "customer_3.withdraw(33000)\n",
    "print(f\"total available balance for {customer_3.customer_name} is {customer_3.balance}\")"
   ]
  },
  {
   "cell_type": "code",
   "execution_count": 16,
   "metadata": {},
   "outputs": [
    {
     "name": "stdout",
     "output_type": "stream",
     "text": [
      "Insufficient balance\n"
     ]
    }
   ],
   "source": [
    "customer_3.withdraw(13000)"
   ]
  },
  {
   "cell_type": "code",
   "execution_count": null,
   "metadata": {},
   "outputs": [],
   "source": []
  },
  {
   "cell_type": "code",
   "execution_count": null,
   "metadata": {},
   "outputs": [],
   "source": []
  },
  {
   "cell_type": "code",
   "execution_count": null,
   "metadata": {},
   "outputs": [],
   "source": []
  },
  {
   "cell_type": "code",
   "execution_count": null,
   "metadata": {},
   "outputs": [],
   "source": []
  },
  {
   "cell_type": "code",
   "execution_count": null,
   "metadata": {},
   "outputs": [],
   "source": []
  },
  {
   "cell_type": "code",
   "execution_count": null,
   "metadata": {},
   "outputs": [],
   "source": []
  },
  {
   "cell_type": "code",
   "execution_count": null,
   "metadata": {},
   "outputs": [],
   "source": []
  },
  {
   "cell_type": "code",
   "execution_count": null,
   "metadata": {},
   "outputs": [],
   "source": []
  },
  {
   "cell_type": "code",
   "execution_count": null,
   "metadata": {},
   "outputs": [],
   "source": []
  }
 ],
 "metadata": {
  "kernelspec": {
   "display_name": "Python 3",
   "language": "python",
   "name": "python3"
  },
  "language_info": {
   "codemirror_mode": {
    "name": "ipython",
    "version": 3
   },
   "file_extension": ".py",
   "mimetype": "text/x-python",
   "name": "python",
   "nbconvert_exporter": "python",
   "pygments_lexer": "ipython3",
   "version": "3.12.0"
  }
 },
 "nbformat": 4,
 "nbformat_minor": 2
}
