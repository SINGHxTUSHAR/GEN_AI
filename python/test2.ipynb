{
 "cells": [
  {
   "cell_type": "code",
   "execution_count": 2,
   "metadata": {},
   "outputs": [
    {
     "name": "stdout",
     "output_type": "stream",
     "text": [
      "dog1 name is Dollar and age is 7\n",
      "Woof!\n",
      "None\n"
     ]
    }
   ],
   "source": [
    "## oops in python\n",
    "## instance variable in a class\n",
    "class Dog:\n",
    "    ## constructor : used to assign the value, as this is the first thing to get run\n",
    "    def __init__(self, name, age):\n",
    "        self.name = name ## instance variable : properties about dog\n",
    "        self.age = age\n",
    "\n",
    "    ## instance methods\n",
    "    def bark(self):\n",
    "        print(\"Woof!\")\n",
    "\n",
    "## objects\n",
    "dog1 = Dog(\"Dollar\", 7)\n",
    "dog2 = Dog(\"blacki\", 5)\n",
    "\n",
    "print(f\"dog1 name is {dog1.name} and age is {dog1.age}\")\n",
    "print(dog1.bark())"
   ]
  },
  {
   "cell_type": "code",
   "execution_count": 17,
   "metadata": {},
   "outputs": [],
   "source": [
    "## define a class with BankAccount having customer data\n",
    "class BankAccount:\n",
    "    def __init__(self, customer_name, customer_age, customer_id, balance):\n",
    "        self.customer_name = customer_name\n",
    "        self.customer_age = customer_age\n",
    "        self.customer_id = customer_id\n",
    "        self.balance = balance\n",
    "        \n",
    "    def deposit(self, amount):\n",
    "        self.balance += amount\n",
    "        print(f\"Amount deposited successfully and balance is {self.balance}\")\n",
    "        \n",
    "    def withdraw(self, amount):\n",
    "        if self.balance >= amount:\n",
    "            self.balance -= amount\n",
    "        else:\n",
    "            print(\"Insufficient balance\")\n",
    "        print(f\"Amount withdrawn successfully and balance is {self.balance}\")\n",
    "        \n",
    "    def get_balance(self):\n",
    "        print(f\"Balance is {self.balance}\")\n",
    "            \n",
    "customer_1 = BankAccount(\"Dhruv\", 22, 1231, 10000)\n",
    "customer_2 = BankAccount(\"gaurav\", 23, 1232, 20000)\n",
    "customer_3 = BankAccount(\"sahil\", 24, 1233, 30000)\n",
    "        \n",
    "        "
   ]
  },
  {
   "cell_type": "code",
   "execution_count": 9,
   "metadata": {},
   "outputs": [
    {
     "name": "stdout",
     "output_type": "stream",
     "text": [
      "Details about the customer_1 is -> Dhruv\n",
      "Details about the customer_2 is -> gaurav\n",
      "Dhruv account balance is 10000\n"
     ]
    }
   ],
   "source": [
    "print(f\"Details about the customer_1 is -> {customer_1.customer_name}\")\n",
    "print(f\"Details about the customer_2 is -> {customer_2.customer_name}\")\n",
    "print(f\"Dhruv account balance is {customer_1.balance}\")"
   ]
  },
  {
   "cell_type": "code",
   "execution_count": 11,
   "metadata": {},
   "outputs": [
    {
     "name": "stdout",
     "output_type": "stream",
     "text": [
      "total available balance for sahil is 43000\n"
     ]
    }
   ],
   "source": [
    "customer_3.deposit(6500)\n",
    "print(f\"total available balance for {customer_3.customer_name} is {customer_3.balance}\")"
   ]
  },
  {
   "cell_type": "code",
   "execution_count": 13,
   "metadata": {},
   "outputs": [
    {
     "name": "stdout",
     "output_type": "stream",
     "text": [
      "Insufficient balance\n",
      "total available balance for sahil is 10000\n"
     ]
    }
   ],
   "source": [
    "customer_3.withdraw(33000)\n",
    "print(f\"total available balance for {customer_3.customer_name} is {customer_3.balance}\")"
   ]
  },
  {
   "cell_type": "code",
   "execution_count": 16,
   "metadata": {},
   "outputs": [
    {
     "name": "stdout",
     "output_type": "stream",
     "text": [
      "Insufficient balance\n"
     ]
    }
   ],
   "source": [
    "customer_3.withdraw(13000)"
   ]
  },
  {
   "cell_type": "code",
   "execution_count": null,
   "metadata": {},
   "outputs": [],
   "source": []
  },
  {
   "cell_type": "code",
   "execution_count": 1,
   "metadata": {},
   "outputs": [
    {
     "name": "stdout",
     "output_type": "stream",
     "text": [
      "barks\n",
      "meows\n",
      "barks\n"
     ]
    }
   ],
   "source": [
    "## polymorphism\n",
    "## method overriding\n",
    "class Animal:\n",
    "    def speak(self):\n",
    "        return \"sounds of an animals\"\n",
    "    \n",
    "class Dog(Animal):\n",
    "    def speak(self):\n",
    "        return \"barks\"\n",
    "    \n",
    "class Cat(Animal):\n",
    "    def speak(self):\n",
    "        return \"meows\"\n",
    "    \n",
    "def animal_sound(animal):\n",
    "    return animal.speak()\n",
    "\n",
    "dog = Dog()\n",
    "cat = Cat()\n",
    "\n",
    "print(dog.speak())\n",
    "print(cat.speak())\n",
    "\n",
    "print(animal_sound(dog))\n"
   ]
  },
  {
   "cell_type": "code",
   "execution_count": 5,
   "metadata": {},
   "outputs": [
    {
     "name": "stdout",
     "output_type": "stream",
     "text": [
      "Area of rectangle: 50\n",
      "Area of circle:  153.93804002589985\n"
     ]
    }
   ],
   "source": [
    "## polymorphism using methods or func()\n",
    "from math import pi\n",
    "class Shape:\n",
    "    def area(self):\n",
    "        return \"the area of the figure\"\n",
    "    \n",
    "class Rectangle(Shape):\n",
    "    def __init__(self, length, width):\n",
    "        self.length = length\n",
    "        self.width = width\n",
    "\n",
    "    def area(self):\n",
    "        return self.length * self.width\n",
    "    \n",
    "class Circle(Shape):\n",
    "    def __init__(self, radius):\n",
    "        self.radius = radius\n",
    "\n",
    "    def area(self):\n",
    "        return pi * self.radius * self.radius\n",
    "    \n",
    "def calculate_area(shape):\n",
    "    return shape.area()\n",
    "\n",
    "reactangle = Rectangle(5, 10)\n",
    "circle = Circle(7)\n",
    "\n",
    "print(\"Area of rectangle:\", calculate_area(reactangle))\n",
    "print(\"Area of circle: \", calculate_area(circle))\n"
   ]
  },
  {
   "cell_type": "code",
   "execution_count": 6,
   "metadata": {},
   "outputs": [
    {
     "name": "stdout",
     "output_type": "stream",
     "text": [
      "car engine started\n"
     ]
    }
   ],
   "source": [
    "## polymorphism using the abstract class\n",
    "from abc import ABC, abstractmethod\n",
    "\n",
    "class vechicle(ABC):\n",
    "    @abstractmethod\n",
    "    def start_engine(self):\n",
    "        pass\n",
    "    \n",
    "class Car(vechicle):\n",
    "    def start_engine(self):\n",
    "        return (\"car engine started\")\n",
    "        \n",
    "class Motorcycle(vechicle):\n",
    "    def start_engine(self):\n",
    "        return (\"motorcycle engine started\")\n",
    "    \n",
    "    \n",
    "car = Car()\n",
    "motorcycle = Motorcycle()   \n",
    "\n",
    "print(car.start_engine())"
   ]
  },
  {
   "cell_type": "code",
   "execution_count": null,
   "metadata": {},
   "outputs": [],
   "source": []
  },
  {
   "cell_type": "code",
   "execution_count": null,
   "metadata": {},
   "outputs": [],
   "source": []
  },
  {
   "cell_type": "code",
   "execution_count": 12,
   "metadata": {},
   "outputs": [
    {
     "name": "stdout",
     "output_type": "stream",
     "text": [
      "Gavin\n"
     ]
    }
   ],
   "source": [
    "## Encapsulation : getter & setter methods\n",
    "## public, private & protected access modifiers\n",
    "\n",
    "class Customer:\n",
    "    def __init__(self, cust_id, name, age, wallet_balance):\n",
    "        self.__cust_id = cust_id ##private variable\n",
    "        self.name = name ##public variable\n",
    "        self.age = age\n",
    "        self._wallet_balance = wallet_balance ## protected variable\n",
    "\n",
    "    def update_balance(self, amount):\n",
    "        self.wallet_balance += amount\n",
    "\n",
    "    def show_balance(self):\n",
    "        print(\"The balance in the wallet is\", self.wallet_balance)\n",
    "\n",
    "    def get_wallet_balance(self):\n",
    "        return self.wallet_balance\n",
    "    \n",
    "    \n",
    "cus_1 = Customer(\"C001\", \"Gavin\", 24, 1000)\n",
    "print(cus_1.name)\n"
   ]
  },
  {
   "cell_type": "code",
   "execution_count": 13,
   "metadata": {},
   "outputs": [
    {
     "data": {
      "text/plain": [
       "['_Customer__cust_id',\n",
       " '__class__',\n",
       " '__delattr__',\n",
       " '__dict__',\n",
       " '__dir__',\n",
       " '__doc__',\n",
       " '__eq__',\n",
       " '__format__',\n",
       " '__ge__',\n",
       " '__getattribute__',\n",
       " '__getstate__',\n",
       " '__gt__',\n",
       " '__hash__',\n",
       " '__init__',\n",
       " '__init_subclass__',\n",
       " '__le__',\n",
       " '__lt__',\n",
       " '__module__',\n",
       " '__ne__',\n",
       " '__new__',\n",
       " '__reduce__',\n",
       " '__reduce_ex__',\n",
       " '__repr__',\n",
       " '__setattr__',\n",
       " '__sizeof__',\n",
       " '__str__',\n",
       " '__subclasshook__',\n",
       " '__weakref__',\n",
       " '_wallet_balance',\n",
       " 'age',\n",
       " 'get_wallet_balance',\n",
       " 'name',\n",
       " 'show_balance',\n",
       " 'update_balance']"
      ]
     },
     "execution_count": 13,
     "metadata": {},
     "output_type": "execute_result"
    }
   ],
   "source": [
    "dir(cus_1)"
   ]
  },
  {
   "cell_type": "code",
   "execution_count": 15,
   "metadata": {},
   "outputs": [
    {
     "name": "stdout",
     "output_type": "stream",
     "text": [
      "John\n",
      "oeii papaa ji!!!!!!!!!!\n"
     ]
    }
   ],
   "source": [
    "## getter and setter methods\n",
    "class Person:\n",
    "    def __init__(self, name, age):\n",
    "        self.__name = name\n",
    "        self.__age = age\n",
    "\n",
    "    ## getter method\n",
    "    def get_name(self):\n",
    "        return self.__name\n",
    "    \n",
    "    ## setter method\n",
    "    def set_name(self, name):\n",
    "        self.__name = name\n",
    "        \n",
    "person1 = Person(\"John\", 30)\n",
    "print(person1.get_name())\n",
    "\n",
    "person1.set_name(\"oeii papaa ji!!!!!!!!!!\")\n",
    "print(person1.get_name())"
   ]
  },
  {
   "cell_type": "code",
   "execution_count": null,
   "metadata": {},
   "outputs": [],
   "source": [
    "## Abstraction\n"
   ]
  },
  {
   "cell_type": "code",
   "execution_count": null,
   "metadata": {},
   "outputs": [],
   "source": []
  }
 ],
 "metadata": {
  "kernelspec": {
   "display_name": "Python 3",
   "language": "python",
   "name": "python3"
  },
  "language_info": {
   "codemirror_mode": {
    "name": "ipython",
    "version": 3
   },
   "file_extension": ".py",
   "mimetype": "text/x-python",
   "name": "python",
   "nbconvert_exporter": "python",
   "pygments_lexer": "ipython3",
   "version": "3.12.0"
  }
 },
 "nbformat": 4,
 "nbformat_minor": 2
}
